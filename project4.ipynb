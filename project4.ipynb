{
 "cells": [
  {
   "cell_type": "markdown",
   "metadata": {},
   "source": [
    "# Проект: Выявление и анализ закономерностей успешности компьютерных игр."
   ]
  },
  {
   "cell_type": "markdown",
   "metadata": {},
   "source": [
    "# План:\n",
    "\n",
    "## Шаг 1. Открытие файла с данными и изучение общей информации\n",
    "\n",
    "## Шаг 2. Подготовка и предобработка данных\n",
    "\n",
    "### Замена названия столбцов (приведите к нижнему регистру);\n",
    "### Преобразование данных в нужные типы. Описание, в каких столбцах заменили тип данных и почему;\n",
    "### Обрабока пропусков при необходимости:\n",
    "### Объяснение, почему заполнили пропуски определённым образом или почему не стали это делать;\n",
    "### Описание причин, которые могли привести к пропускам;\n",
    "### Посчитайте суммарные продажи во всех регионах и запишите их в отдельный столбец.\n",
    "## Шаг 3. Проведение исследовательского анализа данных\n",
    "\n",
    "### Анализ количества выпускаемых игр в разные годы;\n",
    "### Просмотр изменения продаж по платформам. Выбор платформы с наибольшими суммарными продажами и построение распределения по годам. Определение характерного срока появления новых и исчезновения старых платформ\n",
    "### Анализ платформ-лидиров по продажам, анализ их роста/падения?(несколько потенциально прибыльных платформ)\n",
    "### Построение графика «ящик с усами» по глобальным продажам каждой игры и разбивкой по платформам. Анализ и описание результата\n",
    "### Посмотр влияния на продажи внутри одной популярной платформы отзывов пользователей и критиков. Построение диаграммы рассеяния и подсчет корреляции между отзывами и продажами.\n",
    "### Выводы\n",
    "### Соотношение выводов с продажами игр на других платформах.\n",
    "### Посмотр общего распределения игр по жанрам. Что можно сказать о самых прибыльных жанрах? \n",
    "### Сравнения игр с высокими и низкими продажами\n",
    "## Шаг 4. Составление портрета пользователя каждого региона\n",
    "\n",
    "### Определение для пользователя каждого региона (NA, EU, JP):\n",
    "### Самые популярные платформы (топ-5). Описание различия в долях продаж.\n",
    "### Самые популярные жанры (топ-5). Объяснение разницы\n",
    "## Шаг 5. Проверка гипотез\n",
    "\n",
    "### Средние пользовательские рейтинги платформ Xbox One и PC одинаковые;\n",
    "### Средние пользовательские рейтинги жанров Action (англ. «действие») и Sports (англ. «виды спорта») разные.\n",
    "## Шаг 6. Общий вывод"
   ]
  },
  {
   "cell_type": "markdown",
   "metadata": {},
   "source": [
    "# Описание данных\n",
    "## Name — название игры\n",
    "## Platform — платформа\n",
    "## Year_of_Release — год выпуска\n",
    "## Genre — жанр игры\n",
    "## NA_sales — продажи в Северной Америке (миллионы долларов)\n",
    "## EU_sales — продажи в Европе (миллионы долларов)\n",
    "## JP_sales — продажи в Японии (миллионы долларов)\n",
    "## Other_sales — продажи в других странах (миллионы долларов)\n",
    "## Critic_Score — оценка критиков (максимум 100)\n",
    "## User_Score — оценка пользователей (максимум 10)\n",
    "## Rating — рейтинг от организации ESRB (англ. Entertainment Software Rating Board). Эта ассоциация определяет рейтинг компьютерных игр и присваивает им подходящую возрастную категорию."
   ]
  },
  {
   "cell_type": "markdown",
   "metadata": {},
   "source": [
    "# ============================================================="
   ]
  },
  {
   "cell_type": "markdown",
   "metadata": {},
   "source": [
    "# Импортирование нужных библиотек"
   ]
  },
  {
   "cell_type": "code",
   "execution_count": 67,
   "metadata": {
    "ExecuteTime": {
     "end_time": "2020-04-12T03:33:59.847036Z",
     "start_time": "2020-04-12T03:33:59.844063Z"
    }
   },
   "outputs": [],
   "source": [
    "import pandas as pd\n",
    "import matplotlib.pyplot as plt\n",
    "import numpy as np\n",
    "from scipy import stats as st"
   ]
  },
  {
   "cell_type": "markdown",
   "metadata": {},
   "source": [
    "# **_Открытие файла с данными и изучение общей информации_**"
   ]
  },
  {
   "cell_type": "code",
   "execution_count": 68,
   "metadata": {
    "ExecuteTime": {
     "end_time": "2020-04-12T03:33:59.893876Z",
     "start_time": "2020-04-12T03:33:59.851929Z"
    }
   },
   "outputs": [
    {
     "data": {
      "text/html": [
       "<div>\n",
       "<style scoped>\n",
       "    .dataframe tbody tr th:only-of-type {\n",
       "        vertical-align: middle;\n",
       "    }\n",
       "\n",
       "    .dataframe tbody tr th {\n",
       "        vertical-align: top;\n",
       "    }\n",
       "\n",
       "    .dataframe thead th {\n",
       "        text-align: right;\n",
       "    }\n",
       "</style>\n",
       "<table border=\"1\" class=\"dataframe\">\n",
       "  <thead>\n",
       "    <tr style=\"text-align: right;\">\n",
       "      <th></th>\n",
       "      <th>Name</th>\n",
       "      <th>Platform</th>\n",
       "      <th>Year_of_Release</th>\n",
       "      <th>Genre</th>\n",
       "      <th>NA_sales</th>\n",
       "      <th>EU_sales</th>\n",
       "      <th>JP_sales</th>\n",
       "      <th>Other_sales</th>\n",
       "      <th>Critic_Score</th>\n",
       "      <th>User_Score</th>\n",
       "      <th>Rating</th>\n",
       "    </tr>\n",
       "  </thead>\n",
       "  <tbody>\n",
       "    <tr>\n",
       "      <th>0</th>\n",
       "      <td>Wii Sports</td>\n",
       "      <td>Wii</td>\n",
       "      <td>2006.0</td>\n",
       "      <td>Sports</td>\n",
       "      <td>41.36</td>\n",
       "      <td>28.96</td>\n",
       "      <td>3.77</td>\n",
       "      <td>8.45</td>\n",
       "      <td>76.0</td>\n",
       "      <td>8</td>\n",
       "      <td>E</td>\n",
       "    </tr>\n",
       "    <tr>\n",
       "      <th>1</th>\n",
       "      <td>Super Mario Bros.</td>\n",
       "      <td>NES</td>\n",
       "      <td>1985.0</td>\n",
       "      <td>Platform</td>\n",
       "      <td>29.08</td>\n",
       "      <td>3.58</td>\n",
       "      <td>6.81</td>\n",
       "      <td>0.77</td>\n",
       "      <td>NaN</td>\n",
       "      <td>NaN</td>\n",
       "      <td>NaN</td>\n",
       "    </tr>\n",
       "    <tr>\n",
       "      <th>2</th>\n",
       "      <td>Mario Kart Wii</td>\n",
       "      <td>Wii</td>\n",
       "      <td>2008.0</td>\n",
       "      <td>Racing</td>\n",
       "      <td>15.68</td>\n",
       "      <td>12.76</td>\n",
       "      <td>3.79</td>\n",
       "      <td>3.29</td>\n",
       "      <td>82.0</td>\n",
       "      <td>8.3</td>\n",
       "      <td>E</td>\n",
       "    </tr>\n",
       "    <tr>\n",
       "      <th>3</th>\n",
       "      <td>Wii Sports Resort</td>\n",
       "      <td>Wii</td>\n",
       "      <td>2009.0</td>\n",
       "      <td>Sports</td>\n",
       "      <td>15.61</td>\n",
       "      <td>10.93</td>\n",
       "      <td>3.28</td>\n",
       "      <td>2.95</td>\n",
       "      <td>80.0</td>\n",
       "      <td>8</td>\n",
       "      <td>E</td>\n",
       "    </tr>\n",
       "    <tr>\n",
       "      <th>4</th>\n",
       "      <td>Pokemon Red/Pokemon Blue</td>\n",
       "      <td>GB</td>\n",
       "      <td>1996.0</td>\n",
       "      <td>Role-Playing</td>\n",
       "      <td>11.27</td>\n",
       "      <td>8.89</td>\n",
       "      <td>10.22</td>\n",
       "      <td>1.00</td>\n",
       "      <td>NaN</td>\n",
       "      <td>NaN</td>\n",
       "      <td>NaN</td>\n",
       "    </tr>\n",
       "  </tbody>\n",
       "</table>\n",
       "</div>"
      ],
      "text/plain": [
       "                       Name Platform  Year_of_Release         Genre  NA_sales  \\\n",
       "0                Wii Sports      Wii           2006.0        Sports     41.36   \n",
       "1         Super Mario Bros.      NES           1985.0      Platform     29.08   \n",
       "2            Mario Kart Wii      Wii           2008.0        Racing     15.68   \n",
       "3         Wii Sports Resort      Wii           2009.0        Sports     15.61   \n",
       "4  Pokemon Red/Pokemon Blue       GB           1996.0  Role-Playing     11.27   \n",
       "\n",
       "   EU_sales  JP_sales  Other_sales  Critic_Score User_Score Rating  \n",
       "0     28.96      3.77         8.45          76.0          8      E  \n",
       "1      3.58      6.81         0.77           NaN        NaN    NaN  \n",
       "2     12.76      3.79         3.29          82.0        8.3      E  \n",
       "3     10.93      3.28         2.95          80.0          8      E  \n",
       "4      8.89     10.22         1.00           NaN        NaN    NaN  "
      ]
     },
     "execution_count": 68,
     "metadata": {},
     "output_type": "execute_result"
    }
   ],
   "source": [
    "games = pd.read_csv('games.csv')\n",
    "games.head()"
   ]
  },
  {
   "cell_type": "code",
   "execution_count": 69,
   "metadata": {
    "ExecuteTime": {
     "end_time": "2020-04-12T03:33:59.909737Z",
     "start_time": "2020-04-12T03:33:59.895782Z"
    }
   },
   "outputs": [
    {
     "name": "stdout",
     "output_type": "stream",
     "text": [
      "<class 'pandas.core.frame.DataFrame'>\n",
      "Int64Index: 16715 entries, 0 to 16714\n",
      "Data columns (total 11 columns):\n",
      " #   Column           Non-Null Count  Dtype  \n",
      "---  ------           --------------  -----  \n",
      " 0   Name             16713 non-null  object \n",
      " 1   Platform         16715 non-null  object \n",
      " 2   Year_of_Release  16446 non-null  float64\n",
      " 3   Genre            16713 non-null  object \n",
      " 4   NA_sales         16715 non-null  float64\n",
      " 5   EU_sales         16715 non-null  float64\n",
      " 6   JP_sales         16715 non-null  float64\n",
      " 7   Other_sales      16715 non-null  float64\n",
      " 8   Critic_Score     8137 non-null   float64\n",
      " 9   User_Score       10014 non-null  object \n",
      " 10  Rating           9949 non-null   object \n",
      "dtypes: float64(6), object(5)\n",
      "memory usage: 1.5+ MB\n"
     ]
    }
   ],
   "source": [
    "games.info()"
   ]
  },
  {
   "cell_type": "code",
   "execution_count": 70,
   "metadata": {
    "ExecuteTime": {
     "end_time": "2020-04-12T03:33:59.919703Z",
     "start_time": "2020-04-12T03:33:59.911729Z"
    }
   },
   "outputs": [
    {
     "data": {
      "text/plain": [
       "PS2     2161\n",
       "DS      2151\n",
       "PS3     1331\n",
       "Wii     1320\n",
       "X360    1262\n",
       "PSP     1209\n",
       "PS      1197\n",
       "PC       974\n",
       "XB       824\n",
       "GBA      822\n",
       "GC       556\n",
       "3DS      520\n",
       "PSV      430\n",
       "PS4      392\n",
       "N64      319\n",
       "XOne     247\n",
       "SNES     239\n",
       "SAT      173\n",
       "WiiU     147\n",
       "2600     133\n",
       "NES       98\n",
       "GB        98\n",
       "DC        52\n",
       "GEN       29\n",
       "NG        12\n",
       "SCD        6\n",
       "WS         6\n",
       "3DO        3\n",
       "TG16       2\n",
       "GG         1\n",
       "PCFX       1\n",
       "Name: Platform, dtype: int64"
      ]
     },
     "execution_count": 70,
     "metadata": {},
     "output_type": "execute_result"
    }
   ],
   "source": [
    "games['Platform'].value_counts()"
   ]
  },
  {
   "cell_type": "code",
   "execution_count": 71,
   "metadata": {
    "ExecuteTime": {
     "end_time": "2020-04-12T03:33:59.931663Z",
     "start_time": "2020-04-12T03:33:59.922710Z"
    }
   },
   "outputs": [
    {
     "data": {
      "text/plain": [
       "Action          3369\n",
       "Sports          2348\n",
       "Misc            1750\n",
       "Role-Playing    1498\n",
       "Shooter         1323\n",
       "Adventure       1303\n",
       "Racing          1249\n",
       "Platform         888\n",
       "Simulation       873\n",
       "Fighting         849\n",
       "Strategy         683\n",
       "Puzzle           580\n",
       "Name: Genre, dtype: int64"
      ]
     },
     "execution_count": 71,
     "metadata": {},
     "output_type": "execute_result"
    }
   ],
   "source": [
    "games['Genre'].value_counts()"
   ]
  },
  {
   "cell_type": "code",
   "execution_count": 72,
   "metadata": {
    "ExecuteTime": {
     "end_time": "2020-04-12T03:33:59.941629Z",
     "start_time": "2020-04-12T03:33:59.933658Z"
    }
   },
   "outputs": [
    {
     "data": {
      "text/plain": [
       "E       3990\n",
       "T       2961\n",
       "M       1563\n",
       "E10+    1420\n",
       "EC         8\n",
       "K-A        3\n",
       "RP         3\n",
       "AO         1\n",
       "Name: Rating, dtype: int64"
      ]
     },
     "execution_count": 72,
     "metadata": {},
     "output_type": "execute_result"
    }
   ],
   "source": [
    "games['Rating'].value_counts()"
   ]
  },
  {
   "cell_type": "code",
   "execution_count": 73,
   "metadata": {
    "ExecuteTime": {
     "end_time": "2020-04-12T03:33:59.953589Z",
     "start_time": "2020-04-12T03:33:59.943625Z"
    }
   },
   "outputs": [
    {
     "data": {
      "text/plain": [
       "tbd    2424\n",
       "7.8     324\n",
       "8       290\n",
       "8.2     282\n",
       "8.3     254\n",
       "       ... \n",
       "0.6       2\n",
       "9.6       2\n",
       "0.3       2\n",
       "0         1\n",
       "9.7       1\n",
       "Name: User_Score, Length: 96, dtype: int64"
      ]
     },
     "execution_count": 73,
     "metadata": {},
     "output_type": "execute_result"
    }
   ],
   "source": [
    "games['User_Score'].value_counts()"
   ]
  },
  {
   "cell_type": "code",
   "execution_count": 74,
   "metadata": {
    "ExecuteTime": {
     "end_time": "2020-04-12T03:33:59.964553Z",
     "start_time": "2020-04-12T03:33:59.955583Z"
    }
   },
   "outputs": [
    {
     "data": {
      "text/plain": [
       "70.0    256\n",
       "71.0    254\n",
       "75.0    245\n",
       "78.0    240\n",
       "73.0    238\n",
       "       ... \n",
       "20.0      3\n",
       "17.0      1\n",
       "22.0      1\n",
       "13.0      1\n",
       "21.0      1\n",
       "Name: Critic_Score, Length: 82, dtype: int64"
      ]
     },
     "execution_count": 74,
     "metadata": {},
     "output_type": "execute_result"
    }
   ],
   "source": [
    "games['Critic_Score'].value_counts()"
   ]
  },
  {
   "cell_type": "code",
   "execution_count": 75,
   "metadata": {
    "ExecuteTime": {
     "end_time": "2020-04-12T03:33:59.987518Z",
     "start_time": "2020-04-12T03:33:59.968541Z"
    }
   },
   "outputs": [
    {
     "data": {
      "text/plain": [
       "0"
      ]
     },
     "execution_count": 75,
     "metadata": {},
     "output_type": "execute_result"
    }
   ],
   "source": [
    "games.duplicated().sum()"
   ]
  },
  {
   "cell_type": "markdown",
   "metadata": {},
   "source": [
    "### 1. *Обнаружены пропуски в столбцах 'Name'(2), 'Year_of_Release'(269), 'Genre'(2), 'Critic_Score'(8578), 'User_Score'(6701), 'Rating'(6766).*\n",
    "### 2. *Столбец 'User_Score' имеет тип данных object, лучше его изменить в тип данных float64(поскольку оценка имеет числовой тип). Столбец 'Year_of_Release' следует привести к типу данных int(год целочисленен).*\n",
    "### 3. *Нужно переименовать столбцы для большего удобства и понизить регистр.*\n",
    "### 4. *Дупликаты не обнаружены.*\n",
    "### 5. *Замечено странное значение tbd в столбце 'User_Score', следует понять что это и предпринять соответствующие меры по обработке значения.*"
   ]
  },
  {
   "cell_type": "markdown",
   "metadata": {},
   "source": [
    "# **_Подготовка и предобработка данных_**"
   ]
  },
  {
   "cell_type": "markdown",
   "metadata": {},
   "source": [
    "## Переименование столбцов"
   ]
  },
  {
   "cell_type": "code",
   "execution_count": 76,
   "metadata": {
    "ExecuteTime": {
     "end_time": "2020-04-12T03:33:59.993554Z",
     "start_time": "2020-04-12T03:33:59.989471Z"
    }
   },
   "outputs": [],
   "source": [
    "games.columns = [\n",
    "    'name', 'platform', 'year_of_release', 'genre', 'na_sales', 'eu_sales', 'jp_sales', 'other_sales', 'critic_score',\n",
    "    'user_score', 'rating'\n",
    "]"
   ]
  },
  {
   "cell_type": "markdown",
   "metadata": {},
   "source": [
    "### *Так легче будет обращаться к названиям столбцов*."
   ]
  },
  {
   "cell_type": "markdown",
   "metadata": {},
   "source": [
    "## Обработка пропусков"
   ]
  },
  {
   "cell_type": "code",
   "execution_count": 77,
   "metadata": {
    "ExecuteTime": {
     "end_time": "2020-04-12T03:34:00.011430Z",
     "start_time": "2020-04-12T03:33:59.996502Z"
    }
   },
   "outputs": [],
   "source": [
    "games.dropna(subset=['name', 'year_of_release', 'genre'], inplace=True)"
   ]
  },
  {
   "cell_type": "markdown",
   "metadata": {},
   "source": [
    "### *В столбцах 'name', 'year_of_release', 'genre', можно удалить строки, т.к. их количество << количества строк DataFrame'а. В столбцах 'critic_score', 'user_score', 'rating' пропусков около 50% DataFrame'а - достаточно много, поскольку их нельзя заполнить конкретными значениями(оценка этих игр на данных платформах неизвестна), то оставим пропуски пустыми(даже если заполнить пропуски значениями этой игры на других платформах - это помешает точности анализа по платформам, так что лучше пропуски просто не трогать). Пропуски в столбцах 'name', 'year_of_release', 'genre' вероятно имеются из-за сбоев при загрузке данных, поскольку в основном эти столбцы загрузились, в столбцах 'critic_score', 'user_score', 'rating' есть пропуски возможно из-за неуказания оценок пользователей и экспертов, однако могут быть и сбои при загрузке данных, точно сказать нельзя.*"
   ]
  },
  {
   "cell_type": "markdown",
   "metadata": {},
   "source": [
    "### *Если понадобится заполнить/удалить пропуски, это будет делаться походу работы.*"
   ]
  },
  {
   "cell_type": "markdown",
   "metadata": {},
   "source": [
    "## Замена типов данных"
   ]
  },
  {
   "cell_type": "code",
   "execution_count": 78,
   "metadata": {
    "ExecuteTime": {
     "end_time": "2020-04-12T03:34:00.030416Z",
     "start_time": "2020-04-12T03:34:00.013389Z"
    }
   },
   "outputs": [
    {
     "data": {
      "text/html": [
       "<div>\n",
       "<style scoped>\n",
       "    .dataframe tbody tr th:only-of-type {\n",
       "        vertical-align: middle;\n",
       "    }\n",
       "\n",
       "    .dataframe tbody tr th {\n",
       "        vertical-align: top;\n",
       "    }\n",
       "\n",
       "    .dataframe thead th {\n",
       "        text-align: right;\n",
       "    }\n",
       "</style>\n",
       "<table border=\"1\" class=\"dataframe\">\n",
       "  <thead>\n",
       "    <tr style=\"text-align: right;\">\n",
       "      <th></th>\n",
       "      <th>name</th>\n",
       "      <th>platform</th>\n",
       "      <th>year_of_release</th>\n",
       "      <th>genre</th>\n",
       "      <th>na_sales</th>\n",
       "      <th>eu_sales</th>\n",
       "      <th>jp_sales</th>\n",
       "      <th>other_sales</th>\n",
       "      <th>critic_score</th>\n",
       "      <th>user_score</th>\n",
       "      <th>rating</th>\n",
       "    </tr>\n",
       "  </thead>\n",
       "  <tbody>\n",
       "    <tr>\n",
       "      <th>0</th>\n",
       "      <td>Wii Sports</td>\n",
       "      <td>Wii</td>\n",
       "      <td>2006</td>\n",
       "      <td>Sports</td>\n",
       "      <td>41.36</td>\n",
       "      <td>28.96</td>\n",
       "      <td>3.77</td>\n",
       "      <td>8.45</td>\n",
       "      <td>76.0</td>\n",
       "      <td>8</td>\n",
       "      <td>E</td>\n",
       "    </tr>\n",
       "    <tr>\n",
       "      <th>1</th>\n",
       "      <td>Super Mario Bros.</td>\n",
       "      <td>NES</td>\n",
       "      <td>1985</td>\n",
       "      <td>Platform</td>\n",
       "      <td>29.08</td>\n",
       "      <td>3.58</td>\n",
       "      <td>6.81</td>\n",
       "      <td>0.77</td>\n",
       "      <td>NaN</td>\n",
       "      <td>NaN</td>\n",
       "      <td>NaN</td>\n",
       "    </tr>\n",
       "    <tr>\n",
       "      <th>2</th>\n",
       "      <td>Mario Kart Wii</td>\n",
       "      <td>Wii</td>\n",
       "      <td>2008</td>\n",
       "      <td>Racing</td>\n",
       "      <td>15.68</td>\n",
       "      <td>12.76</td>\n",
       "      <td>3.79</td>\n",
       "      <td>3.29</td>\n",
       "      <td>82.0</td>\n",
       "      <td>8.3</td>\n",
       "      <td>E</td>\n",
       "    </tr>\n",
       "    <tr>\n",
       "      <th>3</th>\n",
       "      <td>Wii Sports Resort</td>\n",
       "      <td>Wii</td>\n",
       "      <td>2009</td>\n",
       "      <td>Sports</td>\n",
       "      <td>15.61</td>\n",
       "      <td>10.93</td>\n",
       "      <td>3.28</td>\n",
       "      <td>2.95</td>\n",
       "      <td>80.0</td>\n",
       "      <td>8</td>\n",
       "      <td>E</td>\n",
       "    </tr>\n",
       "    <tr>\n",
       "      <th>4</th>\n",
       "      <td>Pokemon Red/Pokemon Blue</td>\n",
       "      <td>GB</td>\n",
       "      <td>1996</td>\n",
       "      <td>Role-Playing</td>\n",
       "      <td>11.27</td>\n",
       "      <td>8.89</td>\n",
       "      <td>10.22</td>\n",
       "      <td>1.00</td>\n",
       "      <td>NaN</td>\n",
       "      <td>NaN</td>\n",
       "      <td>NaN</td>\n",
       "    </tr>\n",
       "  </tbody>\n",
       "</table>\n",
       "</div>"
      ],
      "text/plain": [
       "                       name platform  year_of_release         genre  na_sales  \\\n",
       "0                Wii Sports      Wii             2006        Sports     41.36   \n",
       "1         Super Mario Bros.      NES             1985      Platform     29.08   \n",
       "2            Mario Kart Wii      Wii             2008        Racing     15.68   \n",
       "3         Wii Sports Resort      Wii             2009        Sports     15.61   \n",
       "4  Pokemon Red/Pokemon Blue       GB             1996  Role-Playing     11.27   \n",
       "\n",
       "   eu_sales  jp_sales  other_sales  critic_score user_score rating  \n",
       "0     28.96      3.77         8.45          76.0          8      E  \n",
       "1      3.58      6.81         0.77           NaN        NaN    NaN  \n",
       "2     12.76      3.79         3.29          82.0        8.3      E  \n",
       "3     10.93      3.28         2.95          80.0          8      E  \n",
       "4      8.89     10.22         1.00           NaN        NaN    NaN  "
      ]
     },
     "execution_count": 78,
     "metadata": {},
     "output_type": "execute_result"
    }
   ],
   "source": [
    "games['year_of_release'] = games['year_of_release'].astype('int')\n",
    "games.head()"
   ]
  },
  {
   "cell_type": "markdown",
   "metadata": {},
   "source": [
    "### *Так будут проще восприниматься числа для анализа данных.*"
   ]
  },
  {
   "cell_type": "markdown",
   "metadata": {},
   "source": [
    "## tbd - значение"
   ]
  },
  {
   "cell_type": "code",
   "execution_count": 79,
   "metadata": {
    "ExecuteTime": {
     "end_time": "2020-04-12T03:34:00.050266Z",
     "start_time": "2020-04-12T03:34:00.032339Z"
    }
   },
   "outputs": [
    {
     "data": {
      "text/html": [
       "<div>\n",
       "<style scoped>\n",
       "    .dataframe tbody tr th:only-of-type {\n",
       "        vertical-align: middle;\n",
       "    }\n",
       "\n",
       "    .dataframe tbody tr th {\n",
       "        vertical-align: top;\n",
       "    }\n",
       "\n",
       "    .dataframe thead th {\n",
       "        text-align: right;\n",
       "    }\n",
       "</style>\n",
       "<table border=\"1\" class=\"dataframe\">\n",
       "  <thead>\n",
       "    <tr style=\"text-align: right;\">\n",
       "      <th></th>\n",
       "      <th>name</th>\n",
       "      <th>platform</th>\n",
       "      <th>year_of_release</th>\n",
       "      <th>genre</th>\n",
       "      <th>na_sales</th>\n",
       "      <th>eu_sales</th>\n",
       "      <th>jp_sales</th>\n",
       "      <th>other_sales</th>\n",
       "      <th>critic_score</th>\n",
       "      <th>user_score</th>\n",
       "      <th>rating</th>\n",
       "    </tr>\n",
       "  </thead>\n",
       "  <tbody>\n",
       "    <tr>\n",
       "      <th>119</th>\n",
       "      <td>Zumba Fitness</td>\n",
       "      <td>Wii</td>\n",
       "      <td>2010</td>\n",
       "      <td>Sports</td>\n",
       "      <td>3.45</td>\n",
       "      <td>2.59</td>\n",
       "      <td>0.0</td>\n",
       "      <td>0.66</td>\n",
       "      <td>NaN</td>\n",
       "      <td>tbd</td>\n",
       "      <td>E</td>\n",
       "    </tr>\n",
       "    <tr>\n",
       "      <th>301</th>\n",
       "      <td>Namco Museum: 50th Anniversary</td>\n",
       "      <td>PS2</td>\n",
       "      <td>2005</td>\n",
       "      <td>Misc</td>\n",
       "      <td>2.08</td>\n",
       "      <td>1.35</td>\n",
       "      <td>0.0</td>\n",
       "      <td>0.54</td>\n",
       "      <td>61.0</td>\n",
       "      <td>tbd</td>\n",
       "      <td>E10+</td>\n",
       "    </tr>\n",
       "    <tr>\n",
       "      <th>520</th>\n",
       "      <td>Zumba Fitness 2</td>\n",
       "      <td>Wii</td>\n",
       "      <td>2011</td>\n",
       "      <td>Sports</td>\n",
       "      <td>1.51</td>\n",
       "      <td>1.03</td>\n",
       "      <td>0.0</td>\n",
       "      <td>0.27</td>\n",
       "      <td>NaN</td>\n",
       "      <td>tbd</td>\n",
       "      <td>T</td>\n",
       "    </tr>\n",
       "    <tr>\n",
       "      <th>645</th>\n",
       "      <td>uDraw Studio</td>\n",
       "      <td>Wii</td>\n",
       "      <td>2010</td>\n",
       "      <td>Misc</td>\n",
       "      <td>1.65</td>\n",
       "      <td>0.57</td>\n",
       "      <td>0.0</td>\n",
       "      <td>0.20</td>\n",
       "      <td>71.0</td>\n",
       "      <td>tbd</td>\n",
       "      <td>E</td>\n",
       "    </tr>\n",
       "    <tr>\n",
       "      <th>718</th>\n",
       "      <td>Just Dance Kids</td>\n",
       "      <td>Wii</td>\n",
       "      <td>2010</td>\n",
       "      <td>Misc</td>\n",
       "      <td>1.52</td>\n",
       "      <td>0.54</td>\n",
       "      <td>0.0</td>\n",
       "      <td>0.18</td>\n",
       "      <td>NaN</td>\n",
       "      <td>tbd</td>\n",
       "      <td>E</td>\n",
       "    </tr>\n",
       "  </tbody>\n",
       "</table>\n",
       "</div>"
      ],
      "text/plain": [
       "                               name platform  year_of_release   genre  \\\n",
       "119                   Zumba Fitness      Wii             2010  Sports   \n",
       "301  Namco Museum: 50th Anniversary      PS2             2005    Misc   \n",
       "520                 Zumba Fitness 2      Wii             2011  Sports   \n",
       "645                    uDraw Studio      Wii             2010    Misc   \n",
       "718                 Just Dance Kids      Wii             2010    Misc   \n",
       "\n",
       "     na_sales  eu_sales  jp_sales  other_sales  critic_score user_score rating  \n",
       "119      3.45      2.59       0.0         0.66           NaN        tbd      E  \n",
       "301      2.08      1.35       0.0         0.54          61.0        tbd   E10+  \n",
       "520      1.51      1.03       0.0         0.27           NaN        tbd      T  \n",
       "645      1.65      0.57       0.0         0.20          71.0        tbd      E  \n",
       "718      1.52      0.54       0.0         0.18           NaN        tbd      E  "
      ]
     },
     "execution_count": 79,
     "metadata": {},
     "output_type": "execute_result"
    }
   ],
   "source": [
    "games[games['user_score'] == 'tbd'].head()"
   ]
  },
  {
   "cell_type": "code",
   "execution_count": 80,
   "metadata": {
    "ExecuteTime": {
     "end_time": "2020-04-12T03:34:00.062268Z",
     "start_time": "2020-04-12T03:34:00.052282Z"
    }
   },
   "outputs": [],
   "source": [
    "games['user_score'] = pd.to_numeric(games['user_score'], errors='coerce')"
   ]
  },
  {
   "cell_type": "markdown",
   "metadata": {},
   "source": [
    "### *С английского tbd - \"будет определен позднее\", возможно это означает, что оценка за игру ещё не была выставлена, то есть игры ещё не сильно развиты(это подтверждает то, что кассовые сборы по ним достаточно маленькие) с учетом этого заменим это значение на NaN, потому что однозначно определить его нельзя.*"
   ]
  },
  {
   "cell_type": "markdown",
   "metadata": {},
   "source": [
    "## Подсчет продаж по всем регионам"
   ]
  },
  {
   "cell_type": "code",
   "execution_count": 81,
   "metadata": {
    "ExecuteTime": {
     "end_time": "2020-04-12T03:34:00.928534Z",
     "start_time": "2020-04-12T03:34:00.064220Z"
    }
   },
   "outputs": [],
   "source": [
    "def sales(row):\n",
    "    return row[4] + row[5] + row[6] + row[7]\n",
    "\n",
    "\n",
    "games['all_sales'] = games.apply(sales, axis=1)"
   ]
  },
  {
   "cell_type": "markdown",
   "metadata": {},
   "source": [
    "# Исследовательский анализ данных"
   ]
  },
  {
   "cell_type": "markdown",
   "metadata": {},
   "source": [
    "## Количество игр по годам"
   ]
  },
  {
   "cell_type": "code",
   "execution_count": 82,
   "metadata": {
    "ExecuteTime": {
     "end_time": "2020-04-12T03:34:01.219683Z",
     "start_time": "2020-04-12T03:34:00.929452Z"
    }
   },
   "outputs": [
    {
     "data": {
      "image/png": "[encoded data removed]",
      "text/plain": [
       "<Figure size 432x288 with 1 Axes>"
      ]
     },
     "metadata": {
      "needs_background": "light"
     },
     "output_type": "display_data"
    }
   ],
   "source": [
    "games_year_count = games.pivot_table(index='year_of_release', values='name', aggfunc='count')\n",
    "games_year_count.columns = ['count']\n",
    "games_year_count.plot(y='count', kind='bar', color='m')\n",
    "plt.xlabel('year')\n",
    "plt.ylabel('count')\n",
    "plt.title('Кол-во игр за год')\n",
    "plt.show()"
   ]
  },
  {
   "cell_type": "markdown",
   "metadata": {},
   "source": [
    "### *Не сложно заметить, что до определенного года игр произодилось очень мало(этот промежуток можно описать редкостью компьютера, как дорогого по тем временам устройства, малым количеством программистов и непопулярностью новой индустрии), далее кол-во игр линейно росло до определенного значения(игры начали набирать популярность, как новый тип отдыха), далее спад и равномерность значения кол-ва игр(вероятно объясняется качеством игр, когда их по-настоящем начали ценить, за деньгами игровые компании спешить перестали, а стали выпускать более качественные игры). Для предсказания данных за 2017 год не понадобятся данные меньше, чем за некоторый определенный год, поэтому нужно определить этот критический год.*"
   ]
  },
  {
   "cell_type": "markdown",
   "metadata": {},
   "source": [
    "## Суммарные продажи по платформам за разные года"
   ]
  },
  {
   "cell_type": "code",
   "execution_count": 83,
   "metadata": {
    "ExecuteTime": {
     "end_time": "2020-04-12T03:34:01.489060Z",
     "start_time": "2020-04-12T03:34:01.222673Z"
    }
   },
   "outputs": [
    {
     "data": {
      "image/png": "[encoded data removed]",
      "text/plain": [
       "<Figure size 432x288 with 1 Axes>"
      ]
     },
     "metadata": {
      "needs_background": "light"
     },
     "output_type": "display_data"
    }
   ],
   "source": [
    "platform_sales = games.pivot_table(index='platform', values='all_sales', aggfunc='sum')\n",
    "platform_sales.columns = ['sum_sales']\n",
    "platform_sales = platform_sales.sort_values(by=['sum_sales'], ascending=True)\n",
    "platform_sales.plot(y='sum_sales', kind='bar', color='m', grid=True)\n",
    "plt.xlabel('platform')\n",
    "plt.ylabel('sum_sales')\n",
    "plt.title('график распределения суммарных продаж по платформам за всё время')\n",
    "plt.show()"
   ]
  },
  {
   "cell_type": "markdown",
   "metadata": {},
   "source": [
    "## Выберем первые 5 самых популярных платформ и проанализируем продажи за каждый год по ним отдельно."
   ]
  },
  {
   "cell_type": "markdown",
   "metadata": {},
   "source": [
    "### Платформа PS2"
   ]
  },
  {
   "cell_type": "code",
   "execution_count": 84,
   "metadata": {
    "ExecuteTime": {
     "end_time": "2020-04-12T03:34:01.675947Z",
     "start_time": "2020-04-12T03:34:01.490977Z"
    }
   },
   "outputs": [
    {
     "data": {
      "image/png": "[encoded data removed]",
      "text/plain": [
       "<Figure size 432x288 with 1 Axes>"
      ]
     },
     "metadata": {
      "needs_background": "light"
     },
     "output_type": "display_data"
    }
   ],
   "source": [
    "ps2_sales = games.query('platform == \"PS2\"').pivot_table(index='year_of_release', values='all_sales', aggfunc='sum')\n",
    "ps2_sales.plot(y='all_sales', kind='bar', grid=True, color='b')\n",
    "plt.xlabel('year')\n",
    "plt.ylabel('sales')\n",
    "plt.title('продажи для платформы ps2 по годам')\n",
    "plt.show()"
   ]
  },
  {
   "cell_type": "markdown",
   "metadata": {},
   "source": [
    "### Платформа X360"
   ]
  },
  {
   "cell_type": "code",
   "execution_count": 85,
   "metadata": {
    "ExecuteTime": {
     "end_time": "2020-04-12T03:34:01.864462Z",
     "start_time": "2020-04-12T03:34:01.677864Z"
    }
   },
   "outputs": [
    {
     "data": {
      "image/png": "[encoded data removed]",
      "text/plain": [
       "<Figure size 432x288 with 1 Axes>"
      ]
     },
     "metadata": {
      "needs_background": "light"
     },
     "output_type": "display_data"
    }
   ],
   "source": [
    "x360_sales = games.query('platform == \"X360\"').pivot_table(index='year_of_release', values='all_sales', aggfunc='sum')\n",
    "x360_sales.plot(y='all_sales', kind='bar', grid=True, color='b')\n",
    "plt.xlabel('year')\n",
    "plt.ylabel('sales')\n",
    "plt.title('продажи для платформы x360 по годам')\n",
    "plt.show()"
   ]
  },
  {
   "cell_type": "markdown",
   "metadata": {},
   "source": [
    "### Платформа PS3"
   ]
  },
  {
   "cell_type": "code",
   "execution_count": 86,
   "metadata": {
    "ExecuteTime": {
     "end_time": "2020-04-12T03:34:02.066717Z",
     "start_time": "2020-04-12T03:34:01.866388Z"
    }
   },
   "outputs": [
    {
     "data": {
      "image/png": "[encoded data removed]",
      "text/plain": [
       "<Figure size 432x288 with 1 Axes>"
      ]
     },
     "metadata": {
      "needs_background": "light"
     },
     "output_type": "display_data"
    }
   ],
   "source": [
    "ps3_sales = games.query('platform == \"PS3\"').pivot_table(index='year_of_release', values='all_sales', aggfunc='sum')\n",
    "ps3_sales.plot(y='all_sales', kind='bar', grid=True, color='b')\n",
    "plt.xlabel('year')\n",
    "plt.ylabel('sales')\n",
    "plt.title('продажи для платформы ps3 по годам')\n",
    "plt.show()"
   ]
  },
  {
   "cell_type": "markdown",
   "metadata": {},
   "source": [
    "### Платформа Wii"
   ]
  },
  {
   "cell_type": "code",
   "execution_count": 87,
   "metadata": {
    "ExecuteTime": {
     "end_time": "2020-04-12T03:34:02.296274Z",
     "start_time": "2020-04-12T03:34:02.069707Z"
    }
   },
   "outputs": [
    {
     "data": {
      "image/png": "[encoded data removed]",
      "text/plain": [
       "<Figure size 432x288 with 1 Axes>"
      ]
     },
     "metadata": {
      "needs_background": "light"
     },
     "output_type": "display_data"
    }
   ],
   "source": [
    "wii_sales = games.query('platform == \"Wii\"').pivot_table(index='year_of_release', values='all_sales', aggfunc='sum')\n",
    "wii_sales.plot(y='all_sales', kind='bar', grid=True, color='b')\n",
    "plt.xlabel('year')\n",
    "plt.ylabel('sales')\n",
    "plt.title('продажи для платформы wii по годам')\n",
    "plt.show()"
   ]
  },
  {
   "cell_type": "markdown",
   "metadata": {},
   "source": [
    "### Платформа DS"
   ]
  },
  {
   "cell_type": "code",
   "execution_count": 88,
   "metadata": {
    "ExecuteTime": {
     "end_time": "2020-04-12T03:34:02.488408Z",
     "start_time": "2020-04-12T03:34:02.298182Z"
    }
   },
   "outputs": [
    {
     "data": {
      "image/png": "[encoded data removed]",
      "text/plain": [
       "<Figure size 432x288 with 1 Axes>"
      ]
     },
     "metadata": {
      "needs_background": "light"
     },
     "output_type": "display_data"
    }
   ],
   "source": [
    "ds_sales = games.query('platform == \"DS\"').pivot_table(index='year_of_release', values='all_sales', aggfunc='sum')\n",
    "ds_sales.plot(y='all_sales', kind='bar', grid=True, color='b')\n",
    "plt.xlabel('year')\n",
    "plt.ylabel('sales')\n",
    "plt.title('продажи для платформы ds по годам')\n",
    "plt.show()"
   ]
  },
  {
   "cell_type": "markdown",
   "metadata": {},
   "source": [
    "### *Пусть платформа считается 'живой', если количество продаж - более 50 миллионов долларов, тогда по анализу 5 самых популярных за всё время платформ можно сказать, что средний год жизни платформы: 7 лет, далее продажи игр на данных платформах резко падают.*"
   ]
  },
  {
   "cell_type": "markdown",
   "metadata": {},
   "source": [
    "### *Возьмём для анализа данные за последние 6 лет(с запасом), то есть диапазон - [2011, 2016] года, как актуальный для 2017 года период."
   ]
  },
  {
   "cell_type": "markdown",
   "metadata": {},
   "source": [
    "## Суммарные продажи по платформам за 2011 - 2016 годы"
   ]
  },
  {
   "cell_type": "code",
   "execution_count": 89,
   "metadata": {
    "ExecuteTime": {
     "end_time": "2020-04-12T03:34:02.509467Z",
     "start_time": "2020-04-12T03:34:02.490401Z"
    }
   },
   "outputs": [
    {
     "data": {
      "text/html": [
       "<div>\n",
       "<style scoped>\n",
       "    .dataframe tbody tr th:only-of-type {\n",
       "        vertical-align: middle;\n",
       "    }\n",
       "\n",
       "    .dataframe tbody tr th {\n",
       "        vertical-align: top;\n",
       "    }\n",
       "\n",
       "    .dataframe thead th {\n",
       "        text-align: right;\n",
       "    }\n",
       "</style>\n",
       "<table border=\"1\" class=\"dataframe\">\n",
       "  <thead>\n",
       "    <tr style=\"text-align: right;\">\n",
       "      <th></th>\n",
       "      <th>sales</th>\n",
       "    </tr>\n",
       "    <tr>\n",
       "      <th>platform</th>\n",
       "      <th></th>\n",
       "    </tr>\n",
       "  </thead>\n",
       "  <tbody>\n",
       "    <tr>\n",
       "      <th>PS3</th>\n",
       "      <td>445.57</td>\n",
       "    </tr>\n",
       "    <tr>\n",
       "      <th>X360</th>\n",
       "      <td>380.38</td>\n",
       "    </tr>\n",
       "    <tr>\n",
       "      <th>PS4</th>\n",
       "      <td>314.14</td>\n",
       "    </tr>\n",
       "    <tr>\n",
       "      <th>3DS</th>\n",
       "      <td>257.81</td>\n",
       "    </tr>\n",
       "    <tr>\n",
       "      <th>XOne</th>\n",
       "      <td>159.32</td>\n",
       "    </tr>\n",
       "  </tbody>\n",
       "</table>\n",
       "</div>"
      ],
      "text/plain": [
       "           sales\n",
       "platform        \n",
       "PS3       445.57\n",
       "X360      380.38\n",
       "PS4       314.14\n",
       "3DS       257.81\n",
       "XOne      159.32"
      ]
     },
     "execution_count": 89,
     "metadata": {},
     "output_type": "execute_result"
    }
   ],
   "source": [
    "games_now = games[(games['year_of_release'] >= 2011) & (games['year_of_release'] <= 2016)]\n",
    "platform_sales_now = games_now.pivot_table(index='platform', values='all_sales', aggfunc='sum')\n",
    "platform_sales_now.columns = ['sales']\n",
    "platform_sales_now = platform_sales_now.sort_values(by=['sales'], ascending=False)\n",
    "platform_sales_now.head(5)"
   ]
  },
  {
   "cell_type": "markdown",
   "metadata": {},
   "source": [
    "## Выберем первые 5 самых прибыльных платформ и проанализируем продажи за каждый год по ним отдельно"
   ]
  },
  {
   "cell_type": "markdown",
   "metadata": {},
   "source": [
    "### Платформа PS3"
   ]
  },
  {
   "cell_type": "code",
   "execution_count": 90,
   "metadata": {
    "ExecuteTime": {
     "end_time": "2020-04-12T03:34:02.675490Z",
     "start_time": "2020-04-12T03:34:02.512450Z"
    }
   },
   "outputs": [
    {
     "data": {
      "image/png": "[encoded data removed]",
      "text/plain": [
       "<Figure size 432x288 with 1 Axes>"
      ]
     },
     "metadata": {
      "needs_background": "light"
     },
     "output_type": "display_data"
    }
   ],
   "source": [
    "games_now_ps3 = games_now[games_now['platform'] == 'PS3']\n",
    "ps3_sales = games_now_ps3.pivot_table(index='year_of_release', values='all_sales', aggfunc='sum')\n",
    "ps3_sales.plot(y='all_sales', kind='bar', grid=True, color='k')\n",
    "plt.xlabel('year')\n",
    "plt.ylabel('sales')\n",
    "plt.title('Продажи за последние 6 лет для платформы PS3')\n",
    "plt.show()"
   ]
  },
  {
   "cell_type": "markdown",
   "metadata": {},
   "source": [
    "### Платформа X360"
   ]
  },
  {
   "cell_type": "code",
   "execution_count": 91,
   "metadata": {
    "ExecuteTime": {
     "end_time": "2020-04-12T03:34:02.846543Z",
     "start_time": "2020-04-12T03:34:02.677361Z"
    }
   },
   "outputs": [
    {
     "data": {
      "image/png": "[encoded data removed]",
      "text/plain": [
       "<Figure size 432x288 with 1 Axes>"
      ]
     },
     "metadata": {
      "needs_background": "light"
     },
     "output_type": "display_data"
    }
   ],
   "source": [
    "games_now_x360 = games_now[games_now['platform'] == 'X360']\n",
    "x360_sales = games_now_x360.pivot_table(index='year_of_release', values='all_sales', aggfunc='sum')\n",
    "x360_sales.plot(y='all_sales', kind='bar', grid=True, color='k')\n",
    "plt.xlabel('year')\n",
    "plt.ylabel('sales')\n",
    "plt.title('Продажи за последние 6 лет для платформы X360')\n",
    "plt.show()"
   ]
  },
  {
   "cell_type": "markdown",
   "metadata": {},
   "source": [
    "### Платформа PS4"
   ]
  },
  {
   "cell_type": "code",
   "execution_count": 92,
   "metadata": {
    "ExecuteTime": {
     "end_time": "2020-04-12T03:34:02.996273Z",
     "start_time": "2020-04-12T03:34:02.848453Z"
    }
   },
   "outputs": [
    {
     "data": {
      "image/png": "[encoded data removed]",
      "text/plain": [
       "<Figure size 432x288 with 1 Axes>"
      ]
     },
     "metadata": {
      "needs_background": "light"
     },
     "output_type": "display_data"
    }
   ],
   "source": [
    "games_now_ps4 = games_now[games_now['platform'] == 'PS4']\n",
    "ps4_sales = games_now_ps4.pivot_table(index='year_of_release', values='all_sales', aggfunc='sum')\n",
    "ps4_sales.plot(y='all_sales', kind='bar', grid=True, color='k')\n",
    "plt.xlabel('year')\n",
    "plt.ylabel('sales')\n",
    "plt.title('Продажи за последние 6 лет для платформы PS4')\n",
    "plt.show()"
   ]
  },
  {
   "cell_type": "markdown",
   "metadata": {},
   "source": [
    "### Платформа 3DS"
   ]
  },
  {
   "cell_type": "code",
   "execution_count": 93,
   "metadata": {
    "ExecuteTime": {
     "end_time": "2020-04-12T03:34:03.155295Z",
     "start_time": "2020-04-12T03:34:02.998266Z"
    }
   },
   "outputs": [
    {
     "data": {
      "image/png": "[encoded data removed]",
      "text/plain": [
       "<Figure size 432x288 with 1 Axes>"
      ]
     },
     "metadata": {
      "needs_background": "light"
     },
     "output_type": "display_data"
    }
   ],
   "source": [
    "games_now_3ds = games_now[games_now['platform'] == '3DS']\n",
    "ds3_sales = games_now_3ds.pivot_table(index='year_of_release', values='all_sales', aggfunc='sum')\n",
    "ds3_sales.plot(y='all_sales', kind='bar', grid=True, color='k')\n",
    "plt.xlabel('year')\n",
    "plt.ylabel('sales')\n",
    "plt.title('Продажи за последние 6 лет для платформы 3DS')\n",
    "plt.show()"
   ]
  },
  {
   "cell_type": "markdown",
   "metadata": {},
   "source": [
    "### Платформа XOne"
   ]
  },
  {
   "cell_type": "code",
   "execution_count": 94,
   "metadata": {
    "ExecuteTime": {
     "end_time": "2020-04-12T03:34:03.343617Z",
     "start_time": "2020-04-12T03:34:03.157241Z"
    }
   },
   "outputs": [
    {
     "data": {
      "image/png": "[encoded data removed]",
      "text/plain": [
       "<Figure size 432x288 with 1 Axes>"
      ]
     },
     "metadata": {
      "needs_background": "light"
     },
     "output_type": "display_data"
    }
   ],
   "source": [
    "games_now_xone = games_now[games_now['platform'] == 'XOne']\n",
    "xone_sales = games_now_xone.pivot_table(index='year_of_release', values='all_sales', aggfunc='sum')\n",
    "xone_sales.plot(y='all_sales', kind='bar', grid=True, color='k')\n",
    "plt.xlabel('year')\n",
    "plt.ylabel('sales')\n",
    "plt.title('Продажи за последние 6 лет для платформы XOne')\n",
    "plt.show()"
   ]
  },
  {
   "cell_type": "markdown",
   "metadata": {},
   "source": [
    "### *Нетрудно заметить, что некоторые популярные платформы, такие как PS3, X360, 3DS - были популярны раньше, но к 2016 году почти не имеют продаж, то есть устарели, а такие как PS4 и XOne - наоборот набирают обороты к популярности(2016 год - не конец 2016 года, а видимо где-то первые 3 - 4 месяца).*"
   ]
  },
  {
   "cell_type": "markdown",
   "metadata": {},
   "source": [
    "## Построим диаграмму разброса продаж для популярных платформ, используемых в период с 2011 - 2016 года"
   ]
  },
  {
   "cell_type": "code",
   "execution_count": 95,
   "metadata": {
    "ExecuteTime": {
     "end_time": "2020-04-12T03:34:04.050968Z",
     "start_time": "2020-04-12T03:34:03.345609Z"
    }
   },
   "outputs": [
    {
     "data": {
      "image/png": "[encoded data removed]",
      "text/plain": [
       "<Figure size 432x288 with 1 Axes>"
      ]
     },
     "metadata": {
      "needs_background": "light"
     },
     "output_type": "display_data"
    },
    {
     "data": {
      "image/png": "[encoded data removed]",
      "text/plain": [
       "<Figure size 432x288 with 1 Axes>"
      ]
     },
     "metadata": {
      "needs_background": "light"
     },
     "output_type": "display_data"
    },
    {
     "data": {
      "image/png": "[encoded data removed]",
      "text/plain": [
       "<Figure size 432x288 with 1 Axes>"
      ]
     },
     "metadata": {
      "needs_background": "light"
     },
     "output_type": "display_data"
    },
    {
     "data": {
      "image/png": "[encoded data removed]",
      "text/plain": [
       "<Figure size 432x288 with 1 Axes>"
      ]
     },
     "metadata": {
      "needs_background": "light"
     },
     "output_type": "display_data"
    },
    {
     "data": {
      "image/png": "[encoded data removed]",
      "text/plain": [
       "<Figure size 432x288 with 1 Axes>"
      ]
     },
     "metadata": {
      "needs_background": "light"
     },
     "output_type": "display_data"
    }
   ],
   "source": [
    "games_platform_sales = games_now.pivot_table(index='name', columns='platform', values='all_sales', aggfunc='sum')\n",
    "platforms = ['PS3', 'X360', '3DS', 'PS4', 'XOne']\n",
    "for platform in platforms:\n",
    "    games_platform_sales.boxplot(column=platform)\n",
    "    plt.ylim(0, 1)\n",
    "    plt.ylabel('sales')\n",
    "    plt.title('график разброса продаж игр')\n",
    "    plt.show()"
   ]
  },
  {
   "cell_type": "markdown",
   "metadata": {},
   "source": [
    "### *Из графиков можно заметить, что в среднем(по медиане) игра собирает где-то 0.2 миллионов долларов для платформ в целом, но есть платформы, такие как 3DS где и медиана и диапазон сборов денег в целом достаточно мал, то есть платформа не такая популярная, а для платформ PS3, X360, PS4, XOne - диапазон значений может достигать верхней грани в 0.6 - 0.8 миллионов долларов, что говорит о популярности таких игр на данной платформе и соответственно о популярности платформы в целом.*"
   ]
  },
  {
   "cell_type": "markdown",
   "metadata": {},
   "source": [
    "## Анализ влияния на продажи платформы PS3 отзывов пользователей"
   ]
  },
  {
   "cell_type": "code",
   "execution_count": 96,
   "metadata": {
    "ExecuteTime": {
     "end_time": "2020-04-12T03:34:04.239365Z",
     "start_time": "2020-04-12T03:34:04.054992Z"
    }
   },
   "outputs": [
    {
     "data": {
      "image/png": "[encoded data removed]",
      "text/plain": [
       "<Figure size 432x288 with 1 Axes>"
      ]
     },
     "metadata": {
      "needs_background": "light"
     },
     "output_type": "display_data"
    },
    {
     "name": "stdout",
     "output_type": "stream",
     "text": [
      "Корреляция: 0.014089348308019395\n"
     ]
    }
   ],
   "source": [
    "games_now_ps3 = games_now[games_now['platform'] == 'PS3']\n",
    "games_now_ps3.plot(x='user_score', y='all_sales', kind='scatter', legend=True, grid=True, alpha=0.5, color='r')\n",
    "plt.title('зависимость продаж от оценок пользователей ps3')\n",
    "plt.show()\n",
    "print('Корреляция:', games_now_ps3['all_sales'].corr(games_now_ps3['user_score']))"
   ]
  },
  {
   "cell_type": "markdown",
   "metadata": {},
   "source": [
    "## Анализ влияния на продажи платформы PS3 отзывов критиков"
   ]
  },
  {
   "cell_type": "code",
   "execution_count": 97,
   "metadata": {
    "ExecuteTime": {
     "end_time": "2020-04-12T03:34:04.410311Z",
     "start_time": "2020-04-12T03:34:04.242353Z"
    }
   },
   "outputs": [
    {
     "data": {
      "image/png": "[encoded data removed]",
      "text/plain": [
       "<Figure size 432x288 with 1 Axes>"
      ]
     },
     "metadata": {
      "needs_background": "light"
     },
     "output_type": "display_data"
    },
    {
     "name": "stdout",
     "output_type": "stream",
     "text": [
      "Корреляция: 0.3801111471829076\n"
     ]
    }
   ],
   "source": [
    "games_now_ps3.plot(x='critic_score', y='all_sales', kind='scatter', legend=True, grid=True, alpha=0.5, color='r')\n",
    "plt.title('зависимость продаж от оценок критиков ps3')\n",
    "plt.show()\n",
    "print('Корреляция:', games_now_ps3['all_sales'].corr(games_now_ps3['critic_score']))"
   ]
  },
  {
   "cell_type": "markdown",
   "metadata": {},
   "source": [
    "## Анализ влияния на продажи платформы X360 отзывов пользователей"
   ]
  },
  {
   "cell_type": "code",
   "execution_count": 98,
   "metadata": {
    "ExecuteTime": {
     "end_time": "2020-04-12T03:34:04.574775Z",
     "start_time": "2020-04-12T03:34:04.414284Z"
    }
   },
   "outputs": [
    {
     "data": {
      "image/png": "[encoded data removed]",
      "text/plain": [
       "<Figure size 432x288 with 1 Axes>"
      ]
     },
     "metadata": {
      "needs_background": "light"
     },
     "output_type": "display_data"
    },
    {
     "name": "stdout",
     "output_type": "stream",
     "text": [
      "Корреляция: 0.038918170729102544\n"
     ]
    }
   ],
   "source": [
    "games_now_x360 = games_now[games_now['platform'] == 'X360']\n",
    "games_now_x360.plot(x='user_score', y='all_sales', kind='scatter', legend=True, grid=True, alpha=0.5, color='r')\n",
    "plt.title('зависимость продаж от оценок пользователей x360')\n",
    "plt.show()\n",
    "print('Корреляция:', games_now_x360['all_sales'].corr(games_now_x360['user_score']))"
   ]
  },
  {
   "cell_type": "markdown",
   "metadata": {},
   "source": [
    "## Анализ влияния на продажи платформы X360 отзывов критиков"
   ]
  },
  {
   "cell_type": "code",
   "execution_count": 99,
   "metadata": {
    "ExecuteTime": {
     "end_time": "2020-04-12T03:34:04.754310Z",
     "start_time": "2020-04-12T03:34:04.576756Z"
    }
   },
   "outputs": [
    {
     "data": {
      "image/png": "[encoded data removed]",
      "text/plain": [
       "<Figure size 432x288 with 1 Axes>"
      ]
     },
     "metadata": {
      "needs_background": "light"
     },
     "output_type": "display_data"
    },
    {
     "name": "stdout",
     "output_type": "stream",
     "text": [
      "Корреляция: 0.3912533245484558\n"
     ]
    }
   ],
   "source": [
    "games_now_x360.plot(x='critic_score', y='all_sales', kind='scatter', legend=True, grid=True, alpha=0.5, color='r')\n",
    "plt.title('зависимость продаж от оценок критиков x360')\n",
    "plt.show()\n",
    "print('Корреляция:', games_now_x360['all_sales'].corr(games_now_x360['critic_score']))"
   ]
  },
  {
   "cell_type": "markdown",
   "metadata": {},
   "source": [
    "## Анализ влияния на продажи платформы PS4 отзывов пользователей"
   ]
  },
  {
   "cell_type": "code",
   "execution_count": 100,
   "metadata": {
    "ExecuteTime": {
     "end_time": "2020-04-12T03:34:04.953509Z",
     "start_time": "2020-04-12T03:34:04.756304Z"
    }
   },
   "outputs": [
    {
     "data": {
      "image/png": "[encoded data removed]",
      "text/plain": [
       "<Figure size 432x288 with 1 Axes>"
      ]
     },
     "metadata": {
      "needs_background": "light"
     },
     "output_type": "display_data"
    },
    {
     "name": "stdout",
     "output_type": "stream",
     "text": [
      "Корреляция: -0.031957110204556376\n"
     ]
    }
   ],
   "source": [
    "games_now_ps4 = games_now[games_now['platform'] == 'PS4']\n",
    "games_now_ps4.plot(x='user_score', y='all_sales', kind='scatter', legend=True, grid=True, alpha=0.5, color='r')\n",
    "plt.title('зависимость продаж от оценок пользователей ps4')\n",
    "plt.show()\n",
    "print('Корреляция:', games_now_ps4['all_sales'].corr(games_now_ps4['user_score']))"
   ]
  },
  {
   "cell_type": "markdown",
   "metadata": {},
   "source": [
    "## Анализ влияния на продажи платформы PS4 отзывов критиков"
   ]
  },
  {
   "cell_type": "code",
   "execution_count": 101,
   "metadata": {
    "ExecuteTime": {
     "end_time": "2020-04-12T03:34:05.111185Z",
     "start_time": "2020-04-12T03:34:04.956148Z"
    }
   },
   "outputs": [
    {
     "data": {
      "image/png": "[encoded data removed]",
      "text/plain": [
       "<Figure size 432x288 with 1 Axes>"
      ]
     },
     "metadata": {
      "needs_background": "light"
     },
     "output_type": "display_data"
    },
    {
     "name": "stdout",
     "output_type": "stream",
     "text": [
      "Корреляция: 0.406567902061781\n"
     ]
    }
   ],
   "source": [
    "games_now_ps4.plot(x='critic_score', y='all_sales', kind='scatter', legend=True, grid=True, alpha=0.5, color='r')\n",
    "plt.title('зависимость продаж от оценок критиков ps4')\n",
    "plt.show()\n",
    "print('Корреляция:', games_now_ps4['all_sales'].corr(games_now_ps4['critic_score']))"
   ]
  },
  {
   "cell_type": "markdown",
   "metadata": {},
   "source": [
    "### *Как можно видеть зависимость продаж от отзывов пользователей или критиков нелинейна, однако по графикам можно видеть, что при увеличении оценки, что пользователей, что критиков продажи игры увеличиваются, но прямой зависимости естественно между этим нету. В основном игры имеют оценку [60, 90] для критиков и [6, 9] для пользователей, поэтому сам по себе критерий не очень показательный, оттого и разброс достаточно большой и соответственно маленькая корреляция.*"
   ]
  },
  {
   "cell_type": "markdown",
   "metadata": {},
   "source": [
    "## Анализ игр по жанрам"
   ]
  },
  {
   "cell_type": "code",
   "execution_count": 102,
   "metadata": {
    "ExecuteTime": {
     "end_time": "2020-04-12T03:34:05.139016Z",
     "start_time": "2020-04-12T03:34:05.113103Z"
    }
   },
   "outputs": [
    {
     "data": {
      "text/html": [
       "<div>\n",
       "<style scoped>\n",
       "    .dataframe tbody tr th:only-of-type {\n",
       "        vertical-align: middle;\n",
       "    }\n",
       "\n",
       "    .dataframe tbody tr th {\n",
       "        vertical-align: top;\n",
       "    }\n",
       "\n",
       "    .dataframe thead th {\n",
       "        text-align: right;\n",
       "    }\n",
       "</style>\n",
       "<table border=\"1\" class=\"dataframe\">\n",
       "  <thead>\n",
       "    <tr style=\"text-align: right;\">\n",
       "      <th></th>\n",
       "      <th>sales</th>\n",
       "      <th>count</th>\n",
       "      <th>sales_on_count</th>\n",
       "    </tr>\n",
       "    <tr>\n",
       "      <th>genre</th>\n",
       "      <th></th>\n",
       "      <th></th>\n",
       "      <th></th>\n",
       "    </tr>\n",
       "  </thead>\n",
       "  <tbody>\n",
       "    <tr>\n",
       "      <th>Action</th>\n",
       "      <td>557.80</td>\n",
       "      <td>1269</td>\n",
       "      <td>0.439559</td>\n",
       "    </tr>\n",
       "    <tr>\n",
       "      <th>Shooter</th>\n",
       "      <td>402.91</td>\n",
       "      <td>329</td>\n",
       "      <td>1.224650</td>\n",
       "    </tr>\n",
       "    <tr>\n",
       "      <th>Role-Playing</th>\n",
       "      <td>245.63</td>\n",
       "      <td>465</td>\n",
       "      <td>0.528237</td>\n",
       "    </tr>\n",
       "    <tr>\n",
       "      <th>Sports</th>\n",
       "      <td>237.15</td>\n",
       "      <td>389</td>\n",
       "      <td>0.609640</td>\n",
       "    </tr>\n",
       "    <tr>\n",
       "      <th>Misc</th>\n",
       "      <td>139.42</td>\n",
       "      <td>375</td>\n",
       "      <td>0.371787</td>\n",
       "    </tr>\n",
       "    <tr>\n",
       "      <th>Platform</th>\n",
       "      <td>88.68</td>\n",
       "      <td>122</td>\n",
       "      <td>0.726885</td>\n",
       "    </tr>\n",
       "    <tr>\n",
       "      <th>Racing</th>\n",
       "      <td>88.31</td>\n",
       "      <td>180</td>\n",
       "      <td>0.490611</td>\n",
       "    </tr>\n",
       "    <tr>\n",
       "      <th>Fighting</th>\n",
       "      <td>66.90</td>\n",
       "      <td>159</td>\n",
       "      <td>0.420755</td>\n",
       "    </tr>\n",
       "    <tr>\n",
       "      <th>Simulation</th>\n",
       "      <td>50.26</td>\n",
       "      <td>136</td>\n",
       "      <td>0.369559</td>\n",
       "    </tr>\n",
       "    <tr>\n",
       "      <th>Adventure</th>\n",
       "      <td>45.04</td>\n",
       "      <td>410</td>\n",
       "      <td>0.109854</td>\n",
       "    </tr>\n",
       "    <tr>\n",
       "      <th>Strategy</th>\n",
       "      <td>22.16</td>\n",
       "      <td>117</td>\n",
       "      <td>0.189402</td>\n",
       "    </tr>\n",
       "    <tr>\n",
       "      <th>Puzzle</th>\n",
       "      <td>9.85</td>\n",
       "      <td>71</td>\n",
       "      <td>0.138732</td>\n",
       "    </tr>\n",
       "  </tbody>\n",
       "</table>\n",
       "</div>"
      ],
      "text/plain": [
       "               sales  count  sales_on_count\n",
       "genre                                      \n",
       "Action        557.80   1269        0.439559\n",
       "Shooter       402.91    329        1.224650\n",
       "Role-Playing  245.63    465        0.528237\n",
       "Sports        237.15    389        0.609640\n",
       "Misc          139.42    375        0.371787\n",
       "Platform       88.68    122        0.726885\n",
       "Racing         88.31    180        0.490611\n",
       "Fighting       66.90    159        0.420755\n",
       "Simulation     50.26    136        0.369559\n",
       "Adventure      45.04    410        0.109854\n",
       "Strategy       22.16    117        0.189402\n",
       "Puzzle          9.85     71        0.138732"
      ]
     },
     "execution_count": 102,
     "metadata": {},
     "output_type": "execute_result"
    }
   ],
   "source": [
    "# Сортировка по общим сборам\n",
    "games_genre = games_now.pivot_table(index='genre', values='all_sales', aggfunc=['sum', 'count'])\n",
    "games_genre.columns = ['sales', 'count']\n",
    "games_genre['sales_on_count'] = games_genre['sales'] / games_genre['count']\n",
    "games_genre = games_genre.sort_values(by='sales', ascending=False)\n",
    "games_genre"
   ]
  },
  {
   "cell_type": "code",
   "execution_count": 103,
   "metadata": {
    "ExecuteTime": {
     "end_time": "2020-04-12T03:34:05.151980Z",
     "start_time": "2020-04-12T03:34:05.141012Z"
    }
   },
   "outputs": [
    {
     "data": {
      "text/html": [
       "<div>\n",
       "<style scoped>\n",
       "    .dataframe tbody tr th:only-of-type {\n",
       "        vertical-align: middle;\n",
       "    }\n",
       "\n",
       "    .dataframe tbody tr th {\n",
       "        vertical-align: top;\n",
       "    }\n",
       "\n",
       "    .dataframe thead th {\n",
       "        text-align: right;\n",
       "    }\n",
       "</style>\n",
       "<table border=\"1\" class=\"dataframe\">\n",
       "  <thead>\n",
       "    <tr style=\"text-align: right;\">\n",
       "      <th></th>\n",
       "      <th>sales</th>\n",
       "      <th>count</th>\n",
       "      <th>sales_on_count</th>\n",
       "    </tr>\n",
       "    <tr>\n",
       "      <th>genre</th>\n",
       "      <th></th>\n",
       "      <th></th>\n",
       "      <th></th>\n",
       "    </tr>\n",
       "  </thead>\n",
       "  <tbody>\n",
       "    <tr>\n",
       "      <th>Action</th>\n",
       "      <td>557.80</td>\n",
       "      <td>1269</td>\n",
       "      <td>0.439559</td>\n",
       "    </tr>\n",
       "    <tr>\n",
       "      <th>Role-Playing</th>\n",
       "      <td>245.63</td>\n",
       "      <td>465</td>\n",
       "      <td>0.528237</td>\n",
       "    </tr>\n",
       "    <tr>\n",
       "      <th>Adventure</th>\n",
       "      <td>45.04</td>\n",
       "      <td>410</td>\n",
       "      <td>0.109854</td>\n",
       "    </tr>\n",
       "    <tr>\n",
       "      <th>Sports</th>\n",
       "      <td>237.15</td>\n",
       "      <td>389</td>\n",
       "      <td>0.609640</td>\n",
       "    </tr>\n",
       "    <tr>\n",
       "      <th>Misc</th>\n",
       "      <td>139.42</td>\n",
       "      <td>375</td>\n",
       "      <td>0.371787</td>\n",
       "    </tr>\n",
       "    <tr>\n",
       "      <th>Shooter</th>\n",
       "      <td>402.91</td>\n",
       "      <td>329</td>\n",
       "      <td>1.224650</td>\n",
       "    </tr>\n",
       "    <tr>\n",
       "      <th>Racing</th>\n",
       "      <td>88.31</td>\n",
       "      <td>180</td>\n",
       "      <td>0.490611</td>\n",
       "    </tr>\n",
       "    <tr>\n",
       "      <th>Fighting</th>\n",
       "      <td>66.90</td>\n",
       "      <td>159</td>\n",
       "      <td>0.420755</td>\n",
       "    </tr>\n",
       "    <tr>\n",
       "      <th>Simulation</th>\n",
       "      <td>50.26</td>\n",
       "      <td>136</td>\n",
       "      <td>0.369559</td>\n",
       "    </tr>\n",
       "    <tr>\n",
       "      <th>Platform</th>\n",
       "      <td>88.68</td>\n",
       "      <td>122</td>\n",
       "      <td>0.726885</td>\n",
       "    </tr>\n",
       "    <tr>\n",
       "      <th>Strategy</th>\n",
       "      <td>22.16</td>\n",
       "      <td>117</td>\n",
       "      <td>0.189402</td>\n",
       "    </tr>\n",
       "    <tr>\n",
       "      <th>Puzzle</th>\n",
       "      <td>9.85</td>\n",
       "      <td>71</td>\n",
       "      <td>0.138732</td>\n",
       "    </tr>\n",
       "  </tbody>\n",
       "</table>\n",
       "</div>"
      ],
      "text/plain": [
       "               sales  count  sales_on_count\n",
       "genre                                      \n",
       "Action        557.80   1269        0.439559\n",
       "Role-Playing  245.63    465        0.528237\n",
       "Adventure      45.04    410        0.109854\n",
       "Sports        237.15    389        0.609640\n",
       "Misc          139.42    375        0.371787\n",
       "Shooter       402.91    329        1.224650\n",
       "Racing         88.31    180        0.490611\n",
       "Fighting       66.90    159        0.420755\n",
       "Simulation     50.26    136        0.369559\n",
       "Platform       88.68    122        0.726885\n",
       "Strategy       22.16    117        0.189402\n",
       "Puzzle          9.85     71        0.138732"
      ]
     },
     "execution_count": 103,
     "metadata": {},
     "output_type": "execute_result"
    }
   ],
   "source": [
    "# Сортировка по количеству выпущенных игр\n",
    "games_genre = games_genre.sort_values(by='count', ascending=False)\n",
    "games_genre"
   ]
  },
  {
   "cell_type": "code",
   "execution_count": 104,
   "metadata": {
    "ExecuteTime": {
     "end_time": "2020-04-12T03:34:05.169380Z",
     "start_time": "2020-04-12T03:34:05.153998Z"
    }
   },
   "outputs": [
    {
     "data": {
      "text/html": [
       "<div>\n",
       "<style scoped>\n",
       "    .dataframe tbody tr th:only-of-type {\n",
       "        vertical-align: middle;\n",
       "    }\n",
       "\n",
       "    .dataframe tbody tr th {\n",
       "        vertical-align: top;\n",
       "    }\n",
       "\n",
       "    .dataframe thead th {\n",
       "        text-align: right;\n",
       "    }\n",
       "</style>\n",
       "<table border=\"1\" class=\"dataframe\">\n",
       "  <thead>\n",
       "    <tr style=\"text-align: right;\">\n",
       "      <th></th>\n",
       "      <th>sales</th>\n",
       "      <th>count</th>\n",
       "      <th>sales_on_count</th>\n",
       "    </tr>\n",
       "    <tr>\n",
       "      <th>genre</th>\n",
       "      <th></th>\n",
       "      <th></th>\n",
       "      <th></th>\n",
       "    </tr>\n",
       "  </thead>\n",
       "  <tbody>\n",
       "    <tr>\n",
       "      <th>Shooter</th>\n",
       "      <td>402.91</td>\n",
       "      <td>329</td>\n",
       "      <td>1.224650</td>\n",
       "    </tr>\n",
       "    <tr>\n",
       "      <th>Platform</th>\n",
       "      <td>88.68</td>\n",
       "      <td>122</td>\n",
       "      <td>0.726885</td>\n",
       "    </tr>\n",
       "    <tr>\n",
       "      <th>Sports</th>\n",
       "      <td>237.15</td>\n",
       "      <td>389</td>\n",
       "      <td>0.609640</td>\n",
       "    </tr>\n",
       "    <tr>\n",
       "      <th>Role-Playing</th>\n",
       "      <td>245.63</td>\n",
       "      <td>465</td>\n",
       "      <td>0.528237</td>\n",
       "    </tr>\n",
       "    <tr>\n",
       "      <th>Racing</th>\n",
       "      <td>88.31</td>\n",
       "      <td>180</td>\n",
       "      <td>0.490611</td>\n",
       "    </tr>\n",
       "    <tr>\n",
       "      <th>Action</th>\n",
       "      <td>557.80</td>\n",
       "      <td>1269</td>\n",
       "      <td>0.439559</td>\n",
       "    </tr>\n",
       "    <tr>\n",
       "      <th>Fighting</th>\n",
       "      <td>66.90</td>\n",
       "      <td>159</td>\n",
       "      <td>0.420755</td>\n",
       "    </tr>\n",
       "    <tr>\n",
       "      <th>Misc</th>\n",
       "      <td>139.42</td>\n",
       "      <td>375</td>\n",
       "      <td>0.371787</td>\n",
       "    </tr>\n",
       "    <tr>\n",
       "      <th>Simulation</th>\n",
       "      <td>50.26</td>\n",
       "      <td>136</td>\n",
       "      <td>0.369559</td>\n",
       "    </tr>\n",
       "    <tr>\n",
       "      <th>Strategy</th>\n",
       "      <td>22.16</td>\n",
       "      <td>117</td>\n",
       "      <td>0.189402</td>\n",
       "    </tr>\n",
       "    <tr>\n",
       "      <th>Puzzle</th>\n",
       "      <td>9.85</td>\n",
       "      <td>71</td>\n",
       "      <td>0.138732</td>\n",
       "    </tr>\n",
       "    <tr>\n",
       "      <th>Adventure</th>\n",
       "      <td>45.04</td>\n",
       "      <td>410</td>\n",
       "      <td>0.109854</td>\n",
       "    </tr>\n",
       "  </tbody>\n",
       "</table>\n",
       "</div>"
      ],
      "text/plain": [
       "               sales  count  sales_on_count\n",
       "genre                                      \n",
       "Shooter       402.91    329        1.224650\n",
       "Platform       88.68    122        0.726885\n",
       "Sports        237.15    389        0.609640\n",
       "Role-Playing  245.63    465        0.528237\n",
       "Racing         88.31    180        0.490611\n",
       "Action        557.80   1269        0.439559\n",
       "Fighting       66.90    159        0.420755\n",
       "Misc          139.42    375        0.371787\n",
       "Simulation     50.26    136        0.369559\n",
       "Strategy       22.16    117        0.189402\n",
       "Puzzle          9.85     71        0.138732\n",
       "Adventure      45.04    410        0.109854"
      ]
     },
     "execution_count": 104,
     "metadata": {},
     "output_type": "execute_result"
    }
   ],
   "source": [
    "# Сортировка по средним сборам на одну игру\n",
    "games_genre = games_genre.sort_values(by='sales_on_count', ascending=False)\n",
    "games_genre"
   ]
  },
  {
   "cell_type": "markdown",
   "metadata": {},
   "source": [
    "### *Больше всего сборов по жанрам - Action, Shooter, Role-Playing, Sports; меньше всего по жанрам - Simulation, Adventure, Strategy и Puzzle. Как можно видеть из анализа популярность жанра определяется двумя критериями - количеством выпущенных игр по данном жанру и среднему сбору по каждой игре. Так например жанр Action имеет очень много игр, но их средние сборы - 0.44 млн. долларов, а следующий по популярности жанр Shooter имеет в 4 раза меньше игр, но  3 раза больше сборов по игре, и всё равно расположен на второй строчке по популярности. Так жанр Adventure имеет 410 созданных игр, что занимает 3 строчку по количеству, но имеет сборы на игр лишь 0.11 млн. долларов, что в итоге сделало его одним из самых непопулярных жанров, а жанр Platform имеет сборы за игру - 0.73 млн. долларов, но по нему выпущено всего лишь 122 игры, что также не делает жанр популярным по сборам.*"
   ]
  },
  {
   "cell_type": "markdown",
   "metadata": {},
   "source": [
    "# Портрет пользователя каждого региона"
   ]
  },
  {
   "cell_type": "markdown",
   "metadata": {},
   "source": [
    "## Топ 5 самых популярных платформ для различных регионов"
   ]
  },
  {
   "cell_type": "markdown",
   "metadata": {},
   "source": [
    "### Северная Америка"
   ]
  },
  {
   "cell_type": "code",
   "execution_count": 105,
   "metadata": {
    "ExecuteTime": {
     "end_time": "2020-04-12T03:34:05.197265Z",
     "start_time": "2020-04-12T03:34:05.171353Z"
    }
   },
   "outputs": [
    {
     "data": {
      "text/html": [
       "<div>\n",
       "<style scoped>\n",
       "    .dataframe tbody tr th:only-of-type {\n",
       "        vertical-align: middle;\n",
       "    }\n",
       "\n",
       "    .dataframe tbody tr th {\n",
       "        vertical-align: top;\n",
       "    }\n",
       "\n",
       "    .dataframe thead th {\n",
       "        text-align: right;\n",
       "    }\n",
       "</style>\n",
       "<table border=\"1\" class=\"dataframe\">\n",
       "  <thead>\n",
       "    <tr style=\"text-align: right;\">\n",
       "      <th></th>\n",
       "      <th>sum_sales</th>\n",
       "      <th>count_sales</th>\n",
       "      <th>sum_on_count</th>\n",
       "    </tr>\n",
       "    <tr>\n",
       "      <th>platform</th>\n",
       "      <th></th>\n",
       "      <th></th>\n",
       "      <th></th>\n",
       "    </tr>\n",
       "  </thead>\n",
       "  <tbody>\n",
       "    <tr>\n",
       "      <th>X360</th>\n",
       "      <td>226.80</td>\n",
       "      <td>498</td>\n",
       "      <td>0.455422</td>\n",
       "    </tr>\n",
       "    <tr>\n",
       "      <th>XOne</th>\n",
       "      <td>93.12</td>\n",
       "      <td>247</td>\n",
       "      <td>0.377004</td>\n",
       "    </tr>\n",
       "    <tr>\n",
       "      <th>PS4</th>\n",
       "      <td>108.74</td>\n",
       "      <td>392</td>\n",
       "      <td>0.277398</td>\n",
       "    </tr>\n",
       "    <tr>\n",
       "      <th>WiiU</th>\n",
       "      <td>38.10</td>\n",
       "      <td>147</td>\n",
       "      <td>0.259184</td>\n",
       "    </tr>\n",
       "    <tr>\n",
       "      <th>Wii</th>\n",
       "      <td>48.56</td>\n",
       "      <td>197</td>\n",
       "      <td>0.246497</td>\n",
       "    </tr>\n",
       "  </tbody>\n",
       "</table>\n",
       "</div>"
      ],
      "text/plain": [
       "          sum_sales  count_sales  sum_on_count\n",
       "platform                                      \n",
       "X360         226.80          498      0.455422\n",
       "XOne          93.12          247      0.377004\n",
       "PS4          108.74          392      0.277398\n",
       "WiiU          38.10          147      0.259184\n",
       "Wii           48.56          197      0.246497"
      ]
     },
     "execution_count": 105,
     "metadata": {},
     "output_type": "execute_result"
    }
   ],
   "source": [
    "games_sales_na = games_now.pivot_table(index='platform', values='na_sales', aggfunc=['sum', 'count'])\n",
    "games_sales_na.columns = ['sum_sales', 'count_sales']\n",
    "games_sales_na['sum_on_count'] = games_sales_na['sum_sales'] / games_sales_na['count_sales']\n",
    "games_sales_na = games_sales_na.sort_values(by='sum_on_count', ascending=False)\n",
    "games_sales_na.head()"
   ]
  },
  {
   "cell_type": "markdown",
   "metadata": {},
   "source": [
    "### Европа"
   ]
  },
  {
   "cell_type": "code",
   "execution_count": 106,
   "metadata": {
    "ExecuteTime": {
     "end_time": "2020-04-12T03:34:05.224178Z",
     "start_time": "2020-04-12T03:34:05.199279Z"
    }
   },
   "outputs": [
    {
     "data": {
      "text/html": [
       "<div>\n",
       "<style scoped>\n",
       "    .dataframe tbody tr th:only-of-type {\n",
       "        vertical-align: middle;\n",
       "    }\n",
       "\n",
       "    .dataframe tbody tr th {\n",
       "        vertical-align: top;\n",
       "    }\n",
       "\n",
       "    .dataframe thead th {\n",
       "        text-align: right;\n",
       "    }\n",
       "</style>\n",
       "<table border=\"1\" class=\"dataframe\">\n",
       "  <thead>\n",
       "    <tr style=\"text-align: right;\">\n",
       "      <th></th>\n",
       "      <th>sum_sales</th>\n",
       "      <th>count_sales</th>\n",
       "      <th>sum_on_count</th>\n",
       "    </tr>\n",
       "    <tr>\n",
       "      <th>platform</th>\n",
       "      <th></th>\n",
       "      <th></th>\n",
       "      <th></th>\n",
       "    </tr>\n",
       "  </thead>\n",
       "  <tbody>\n",
       "    <tr>\n",
       "      <th>PS4</th>\n",
       "      <td>141.09</td>\n",
       "      <td>392</td>\n",
       "      <td>0.359923</td>\n",
       "    </tr>\n",
       "    <tr>\n",
       "      <th>X360</th>\n",
       "      <td>117.10</td>\n",
       "      <td>498</td>\n",
       "      <td>0.235141</td>\n",
       "    </tr>\n",
       "    <tr>\n",
       "      <th>PS3</th>\n",
       "      <td>163.10</td>\n",
       "      <td>708</td>\n",
       "      <td>0.230367</td>\n",
       "    </tr>\n",
       "    <tr>\n",
       "      <th>XOne</th>\n",
       "      <td>51.59</td>\n",
       "      <td>247</td>\n",
       "      <td>0.208866</td>\n",
       "    </tr>\n",
       "    <tr>\n",
       "      <th>WiiU</th>\n",
       "      <td>25.13</td>\n",
       "      <td>147</td>\n",
       "      <td>0.170952</td>\n",
       "    </tr>\n",
       "  </tbody>\n",
       "</table>\n",
       "</div>"
      ],
      "text/plain": [
       "          sum_sales  count_sales  sum_on_count\n",
       "platform                                      \n",
       "PS4          141.09          392      0.359923\n",
       "X360         117.10          498      0.235141\n",
       "PS3          163.10          708      0.230367\n",
       "XOne          51.59          247      0.208866\n",
       "WiiU          25.13          147      0.170952"
      ]
     },
     "execution_count": 106,
     "metadata": {},
     "output_type": "execute_result"
    }
   ],
   "source": [
    "games_sales_eu = games_now.pivot_table(index='platform', values='eu_sales', aggfunc=['sum', 'count'])\n",
    "games_sales_eu.columns = ['sum_sales', 'count_sales']\n",
    "games_sales_eu['sum_on_count'] = games_sales_eu['sum_sales'] / games_sales_eu['count_sales']\n",
    "games_sales_eu = games_sales_eu.sort_values(by='sum_on_count', ascending=False)\n",
    "games_sales_eu.head()"
   ]
  },
  {
   "cell_type": "markdown",
   "metadata": {},
   "source": [
    "### Япония"
   ]
  },
  {
   "cell_type": "code",
   "execution_count": 107,
   "metadata": {
    "ExecuteTime": {
     "end_time": "2020-04-12T03:34:05.258064Z",
     "start_time": "2020-04-12T03:34:05.226169Z"
    }
   },
   "outputs": [
    {
     "data": {
      "text/html": [
       "<div>\n",
       "<style scoped>\n",
       "    .dataframe tbody tr th:only-of-type {\n",
       "        vertical-align: middle;\n",
       "    }\n",
       "\n",
       "    .dataframe tbody tr th {\n",
       "        vertical-align: top;\n",
       "    }\n",
       "\n",
       "    .dataframe thead th {\n",
       "        text-align: right;\n",
       "    }\n",
       "</style>\n",
       "<table border=\"1\" class=\"dataframe\">\n",
       "  <thead>\n",
       "    <tr style=\"text-align: right;\">\n",
       "      <th></th>\n",
       "      <th>sum_sales</th>\n",
       "      <th>count_sales</th>\n",
       "      <th>sum_on_count</th>\n",
       "    </tr>\n",
       "    <tr>\n",
       "      <th>platform</th>\n",
       "      <th></th>\n",
       "      <th></th>\n",
       "      <th></th>\n",
       "    </tr>\n",
       "  </thead>\n",
       "  <tbody>\n",
       "    <tr>\n",
       "      <th>3DS</th>\n",
       "      <td>100.62</td>\n",
       "      <td>512</td>\n",
       "      <td>0.196523</td>\n",
       "    </tr>\n",
       "    <tr>\n",
       "      <th>WiiU</th>\n",
       "      <td>13.01</td>\n",
       "      <td>147</td>\n",
       "      <td>0.088503</td>\n",
       "    </tr>\n",
       "    <tr>\n",
       "      <th>PSP</th>\n",
       "      <td>24.04</td>\n",
       "      <td>312</td>\n",
       "      <td>0.077051</td>\n",
       "    </tr>\n",
       "    <tr>\n",
       "      <th>PS3</th>\n",
       "      <td>49.39</td>\n",
       "      <td>708</td>\n",
       "      <td>0.069760</td>\n",
       "    </tr>\n",
       "    <tr>\n",
       "      <th>PSV</th>\n",
       "      <td>21.84</td>\n",
       "      <td>429</td>\n",
       "      <td>0.050909</td>\n",
       "    </tr>\n",
       "  </tbody>\n",
       "</table>\n",
       "</div>"
      ],
      "text/plain": [
       "          sum_sales  count_sales  sum_on_count\n",
       "platform                                      \n",
       "3DS          100.62          512      0.196523\n",
       "WiiU          13.01          147      0.088503\n",
       "PSP           24.04          312      0.077051\n",
       "PS3           49.39          708      0.069760\n",
       "PSV           21.84          429      0.050909"
      ]
     },
     "execution_count": 107,
     "metadata": {},
     "output_type": "execute_result"
    }
   ],
   "source": [
    "games_sales_jp = games_now.pivot_table(index='platform', values='jp_sales', aggfunc=['sum', 'count'])\n",
    "games_sales_jp.columns = ['sum_sales', 'count_sales']\n",
    "games_sales_jp['sum_on_count'] = games_sales_jp['sum_sales'] / games_sales_jp['count_sales']\n",
    "games_sales_jp = games_sales_jp.sort_values(by='sum_on_count', ascending=False)\n",
    "games_sales_jp.head()"
   ]
  },
  {
   "cell_type": "markdown",
   "metadata": {},
   "source": [
    "### *По сборам за игру в Северной Америке лидируют платформы - X360, XOne, PS4, WiiU, Wii. В Европе - PS4, X360, PS3, XOne, WiiU. В Японии - 3DS, WiiU, PSP, PS3, PSV. В Японии все новые платформы(PS4, XOne) доходят с опозданием или население не способно потратить такие деньги на платформу после её недавнего выхода. В Европе и Америке наоборот новые платформы(PS4, XOne) сразу занимают хорошие позиции в долях продаж на игру.*"
   ]
  },
  {
   "cell_type": "markdown",
   "metadata": {},
   "source": [
    "## Топ 5 самых популярных жанров для различных регионов"
   ]
  },
  {
   "cell_type": "markdown",
   "metadata": {},
   "source": [
    "### Северная Америка"
   ]
  },
  {
   "cell_type": "code",
   "execution_count": 108,
   "metadata": {
    "ExecuteTime": {
     "end_time": "2020-04-12T03:34:05.284974Z",
     "start_time": "2020-04-12T03:34:05.260058Z"
    }
   },
   "outputs": [
    {
     "data": {
      "text/html": [
       "<div>\n",
       "<style scoped>\n",
       "    .dataframe tbody tr th:only-of-type {\n",
       "        vertical-align: middle;\n",
       "    }\n",
       "\n",
       "    .dataframe tbody tr th {\n",
       "        vertical-align: top;\n",
       "    }\n",
       "\n",
       "    .dataframe thead th {\n",
       "        text-align: right;\n",
       "    }\n",
       "</style>\n",
       "<table border=\"1\" class=\"dataframe\">\n",
       "  <thead>\n",
       "    <tr style=\"text-align: right;\">\n",
       "      <th></th>\n",
       "      <th>sales_sum</th>\n",
       "      <th>sales_count</th>\n",
       "      <th>sum_on_count</th>\n",
       "    </tr>\n",
       "    <tr>\n",
       "      <th>genre</th>\n",
       "      <th></th>\n",
       "      <th></th>\n",
       "      <th></th>\n",
       "    </tr>\n",
       "  </thead>\n",
       "  <tbody>\n",
       "    <tr>\n",
       "      <th>Action</th>\n",
       "      <td>230.92</td>\n",
       "      <td>1269</td>\n",
       "      <td>0.181970</td>\n",
       "    </tr>\n",
       "    <tr>\n",
       "      <th>Shooter</th>\n",
       "      <td>194.43</td>\n",
       "      <td>329</td>\n",
       "      <td>0.590973</td>\n",
       "    </tr>\n",
       "    <tr>\n",
       "      <th>Sports</th>\n",
       "      <td>108.70</td>\n",
       "      <td>389</td>\n",
       "      <td>0.279434</td>\n",
       "    </tr>\n",
       "    <tr>\n",
       "      <th>Role-Playing</th>\n",
       "      <td>83.78</td>\n",
       "      <td>465</td>\n",
       "      <td>0.180172</td>\n",
       "    </tr>\n",
       "    <tr>\n",
       "      <th>Misc</th>\n",
       "      <td>69.69</td>\n",
       "      <td>375</td>\n",
       "      <td>0.185840</td>\n",
       "    </tr>\n",
       "  </tbody>\n",
       "</table>\n",
       "</div>"
      ],
      "text/plain": [
       "              sales_sum  sales_count  sum_on_count\n",
       "genre                                             \n",
       "Action           230.92         1269      0.181970\n",
       "Shooter          194.43          329      0.590973\n",
       "Sports           108.70          389      0.279434\n",
       "Role-Playing      83.78          465      0.180172\n",
       "Misc              69.69          375      0.185840"
      ]
     },
     "execution_count": 108,
     "metadata": {},
     "output_type": "execute_result"
    }
   ],
   "source": [
    "games_genre_na = games_now.pivot_table(index='genre', values='na_sales', aggfunc=['sum', 'count'])\n",
    "games_genre_na.columns = ['sales_sum', 'sales_count']\n",
    "games_genre_na['sum_on_count'] = games_genre_na['sales_sum'] / games_genre_na['sales_count']\n",
    "games_genre_na = games_genre_na.sort_values(by='sales_sum', ascending=False)\n",
    "games_genre_na.head()"
   ]
  },
  {
   "cell_type": "markdown",
   "metadata": {},
   "source": [
    "### Европа"
   ]
  },
  {
   "cell_type": "code",
   "execution_count": 109,
   "metadata": {
    "ExecuteTime": {
     "end_time": "2020-04-12T03:34:05.310969Z",
     "start_time": "2020-04-12T03:34:05.286968Z"
    }
   },
   "outputs": [
    {
     "data": {
      "text/html": [
       "<div>\n",
       "<style scoped>\n",
       "    .dataframe tbody tr th:only-of-type {\n",
       "        vertical-align: middle;\n",
       "    }\n",
       "\n",
       "    .dataframe tbody tr th {\n",
       "        vertical-align: top;\n",
       "    }\n",
       "\n",
       "    .dataframe thead th {\n",
       "        text-align: right;\n",
       "    }\n",
       "</style>\n",
       "<table border=\"1\" class=\"dataframe\">\n",
       "  <thead>\n",
       "    <tr style=\"text-align: right;\">\n",
       "      <th></th>\n",
       "      <th>sales_sum</th>\n",
       "      <th>sales_count</th>\n",
       "      <th>sum_on_count</th>\n",
       "    </tr>\n",
       "    <tr>\n",
       "      <th>genre</th>\n",
       "      <th></th>\n",
       "      <th></th>\n",
       "      <th></th>\n",
       "    </tr>\n",
       "  </thead>\n",
       "  <tbody>\n",
       "    <tr>\n",
       "      <th>Action</th>\n",
       "      <td>199.12</td>\n",
       "      <td>1269</td>\n",
       "      <td>0.156911</td>\n",
       "    </tr>\n",
       "    <tr>\n",
       "      <th>Shooter</th>\n",
       "      <td>148.02</td>\n",
       "      <td>329</td>\n",
       "      <td>0.449909</td>\n",
       "    </tr>\n",
       "    <tr>\n",
       "      <th>Sports</th>\n",
       "      <td>88.48</td>\n",
       "      <td>389</td>\n",
       "      <td>0.227455</td>\n",
       "    </tr>\n",
       "    <tr>\n",
       "      <th>Role-Playing</th>\n",
       "      <td>62.30</td>\n",
       "      <td>465</td>\n",
       "      <td>0.133978</td>\n",
       "    </tr>\n",
       "    <tr>\n",
       "      <th>Racing</th>\n",
       "      <td>40.58</td>\n",
       "      <td>180</td>\n",
       "      <td>0.225444</td>\n",
       "    </tr>\n",
       "  </tbody>\n",
       "</table>\n",
       "</div>"
      ],
      "text/plain": [
       "              sales_sum  sales_count  sum_on_count\n",
       "genre                                             \n",
       "Action           199.12         1269      0.156911\n",
       "Shooter          148.02          329      0.449909\n",
       "Sports            88.48          389      0.227455\n",
       "Role-Playing      62.30          465      0.133978\n",
       "Racing            40.58          180      0.225444"
      ]
     },
     "execution_count": 109,
     "metadata": {},
     "output_type": "execute_result"
    }
   ],
   "source": [
    "games_genre_eu = games_now.pivot_table(index='genre', values='eu_sales', aggfunc=['sum', 'count'])\n",
    "games_genre_eu.columns = ['sales_sum', 'sales_count']\n",
    "games_genre_eu['sum_on_count'] = games_genre_eu['sales_sum'] / games_genre_eu['sales_count']\n",
    "games_genre_eu = games_genre_eu.sort_values(by='sales_sum', ascending=False)\n",
    "games_genre_eu.head()"
   ]
  },
  {
   "cell_type": "markdown",
   "metadata": {},
   "source": [
    "### Япония"
   ]
  },
  {
   "cell_type": "code",
   "execution_count": 110,
   "metadata": {
    "ExecuteTime": {
     "end_time": "2020-04-12T03:34:05.342867Z",
     "start_time": "2020-04-12T03:34:05.312881Z"
    }
   },
   "outputs": [
    {
     "data": {
      "text/html": [
       "<div>\n",
       "<style scoped>\n",
       "    .dataframe tbody tr th:only-of-type {\n",
       "        vertical-align: middle;\n",
       "    }\n",
       "\n",
       "    .dataframe tbody tr th {\n",
       "        vertical-align: top;\n",
       "    }\n",
       "\n",
       "    .dataframe thead th {\n",
       "        text-align: right;\n",
       "    }\n",
       "</style>\n",
       "<table border=\"1\" class=\"dataframe\">\n",
       "  <thead>\n",
       "    <tr style=\"text-align: right;\">\n",
       "      <th></th>\n",
       "      <th>sales_sum</th>\n",
       "      <th>sales_count</th>\n",
       "      <th>sum_on_count</th>\n",
       "    </tr>\n",
       "    <tr>\n",
       "      <th>genre</th>\n",
       "      <th></th>\n",
       "      <th></th>\n",
       "      <th></th>\n",
       "    </tr>\n",
       "  </thead>\n",
       "  <tbody>\n",
       "    <tr>\n",
       "      <th>Role-Playing</th>\n",
       "      <td>79.87</td>\n",
       "      <td>465</td>\n",
       "      <td>0.171763</td>\n",
       "    </tr>\n",
       "    <tr>\n",
       "      <th>Action</th>\n",
       "      <td>63.62</td>\n",
       "      <td>1269</td>\n",
       "      <td>0.050134</td>\n",
       "    </tr>\n",
       "    <tr>\n",
       "      <th>Misc</th>\n",
       "      <td>17.60</td>\n",
       "      <td>375</td>\n",
       "      <td>0.046933</td>\n",
       "    </tr>\n",
       "    <tr>\n",
       "      <th>Fighting</th>\n",
       "      <td>12.38</td>\n",
       "      <td>159</td>\n",
       "      <td>0.077862</td>\n",
       "    </tr>\n",
       "    <tr>\n",
       "      <th>Platform</th>\n",
       "      <td>12.13</td>\n",
       "      <td>122</td>\n",
       "      <td>0.099426</td>\n",
       "    </tr>\n",
       "  </tbody>\n",
       "</table>\n",
       "</div>"
      ],
      "text/plain": [
       "              sales_sum  sales_count  sum_on_count\n",
       "genre                                             \n",
       "Role-Playing      79.87          465      0.171763\n",
       "Action            63.62         1269      0.050134\n",
       "Misc              17.60          375      0.046933\n",
       "Fighting          12.38          159      0.077862\n",
       "Platform          12.13          122      0.099426"
      ]
     },
     "execution_count": 110,
     "metadata": {},
     "output_type": "execute_result"
    }
   ],
   "source": [
    "games_genre_jp = games_now.pivot_table(index='genre', values='jp_sales', aggfunc=['sum', 'count'])\n",
    "games_genre_jp.columns = ['sales_sum', 'sales_count']\n",
    "games_genre_jp['sum_on_count'] = games_genre_jp['sales_sum'] / games_genre_jp['sales_count']\n",
    "games_genre_jp = games_genre_jp.sort_values(by='sales_sum', ascending=False)\n",
    "games_genre_jp.head()"
   ]
  },
  {
   "cell_type": "markdown",
   "metadata": {},
   "source": [
    "### *По общим сборам денег самые популярные жанры в Северной Америке - Action, Shooter, Sports, Role-Playing, Misc. В Европе - Action, Shooter, Sports, Role-Playing, Racing. В Японии - Role-Playing, Action, Misc, Fighting, Platform. Опять в Японии количество сборов больше на жанры, которые в Европе или Северной Америке не настолько распространены, шутеры и спорт-игры даже не входят в топ 5 популярных игр, зато вместо них можно найти игры жанров Fighting и Platform. В Европе и Северной Америке интересы игроков примерно совпадают.*"
   ]
  },
  {
   "cell_type": "markdown",
   "metadata": {},
   "source": [
    "# Влияение рейтинга ERSB на продажи по регионам"
   ]
  },
  {
   "cell_type": "markdown",
   "metadata": {},
   "source": [
    "### Северная Америка"
   ]
  },
  {
   "cell_type": "code",
   "execution_count": 111,
   "metadata": {
    "ExecuteTime": {
     "end_time": "2020-04-12T03:34:05.374794Z",
     "start_time": "2020-04-12T03:34:05.344774Z"
    }
   },
   "outputs": [
    {
     "data": {
      "text/html": [
       "<div>\n",
       "<style scoped>\n",
       "    .dataframe tbody tr th:only-of-type {\n",
       "        vertical-align: middle;\n",
       "    }\n",
       "\n",
       "    .dataframe tbody tr th {\n",
       "        vertical-align: top;\n",
       "    }\n",
       "\n",
       "    .dataframe thead th {\n",
       "        text-align: right;\n",
       "    }\n",
       "</style>\n",
       "<table border=\"1\" class=\"dataframe\">\n",
       "  <thead>\n",
       "    <tr style=\"text-align: right;\">\n",
       "      <th></th>\n",
       "      <th>sum_sales</th>\n",
       "      <th>count_sales</th>\n",
       "      <th>sum_on_count</th>\n",
       "    </tr>\n",
       "    <tr>\n",
       "      <th>rating</th>\n",
       "      <th></th>\n",
       "      <th></th>\n",
       "      <th></th>\n",
       "    </tr>\n",
       "  </thead>\n",
       "  <tbody>\n",
       "    <tr>\n",
       "      <th>M</th>\n",
       "      <td>308.45</td>\n",
       "      <td>622</td>\n",
       "      <td>0.495900</td>\n",
       "    </tr>\n",
       "    <tr>\n",
       "      <th>E</th>\n",
       "      <td>170.17</td>\n",
       "      <td>618</td>\n",
       "      <td>0.275356</td>\n",
       "    </tr>\n",
       "    <tr>\n",
       "      <th>E10+</th>\n",
       "      <td>117.72</td>\n",
       "      <td>456</td>\n",
       "      <td>0.258158</td>\n",
       "    </tr>\n",
       "    <tr>\n",
       "      <th>T</th>\n",
       "      <td>109.31</td>\n",
       "      <td>616</td>\n",
       "      <td>0.177451</td>\n",
       "    </tr>\n",
       "  </tbody>\n",
       "</table>\n",
       "</div>"
      ],
      "text/plain": [
       "        sum_sales  count_sales  sum_on_count\n",
       "rating                                      \n",
       "M          308.45          622      0.495900\n",
       "E          170.17          618      0.275356\n",
       "E10+       117.72          456      0.258158\n",
       "T          109.31          616      0.177451"
      ]
     },
     "execution_count": 111,
     "metadata": {},
     "output_type": "execute_result"
    }
   ],
   "source": [
    "games_rating_na = games_now.pivot_table(index='rating', values='na_sales', aggfunc=['sum', 'count'])\n",
    "games_rating_na.columns = ['sum_sales', 'count_sales']\n",
    "games_rating_na['sum_on_count'] = games_rating_na['sum_sales'] / games_rating_na['count_sales']\n",
    "games_rating_na = games_rating_na.sort_values(by='sum_sales', ascending=False)\n",
    "games_rating_na.head(4)"
   ]
  },
  {
   "cell_type": "markdown",
   "metadata": {},
   "source": [
    "### Европа"
   ]
  },
  {
   "cell_type": "code",
   "execution_count": 112,
   "metadata": {
    "ExecuteTime": {
     "end_time": "2020-04-12T03:34:05.408559Z",
     "start_time": "2020-04-12T03:34:05.378658Z"
    }
   },
   "outputs": [
    {
     "data": {
      "text/html": [
       "<div>\n",
       "<style scoped>\n",
       "    .dataframe tbody tr th:only-of-type {\n",
       "        vertical-align: middle;\n",
       "    }\n",
       "\n",
       "    .dataframe tbody tr th {\n",
       "        vertical-align: top;\n",
       "    }\n",
       "\n",
       "    .dataframe thead th {\n",
       "        text-align: right;\n",
       "    }\n",
       "</style>\n",
       "<table border=\"1\" class=\"dataframe\">\n",
       "  <thead>\n",
       "    <tr style=\"text-align: right;\">\n",
       "      <th></th>\n",
       "      <th>sum_sales</th>\n",
       "      <th>count_sales</th>\n",
       "      <th>sum_on_count</th>\n",
       "    </tr>\n",
       "    <tr>\n",
       "      <th>rating</th>\n",
       "      <th></th>\n",
       "      <th></th>\n",
       "      <th></th>\n",
       "    </tr>\n",
       "  </thead>\n",
       "  <tbody>\n",
       "    <tr>\n",
       "      <th>M</th>\n",
       "      <td>250.26</td>\n",
       "      <td>622</td>\n",
       "      <td>0.402347</td>\n",
       "    </tr>\n",
       "    <tr>\n",
       "      <th>E</th>\n",
       "      <td>141.73</td>\n",
       "      <td>618</td>\n",
       "      <td>0.229337</td>\n",
       "    </tr>\n",
       "    <tr>\n",
       "      <th>T</th>\n",
       "      <td>83.16</td>\n",
       "      <td>616</td>\n",
       "      <td>0.135000</td>\n",
       "    </tr>\n",
       "    <tr>\n",
       "      <th>E10+</th>\n",
       "      <td>78.00</td>\n",
       "      <td>456</td>\n",
       "      <td>0.171053</td>\n",
       "    </tr>\n",
       "  </tbody>\n",
       "</table>\n",
       "</div>"
      ],
      "text/plain": [
       "        sum_sales  count_sales  sum_on_count\n",
       "rating                                      \n",
       "M          250.26          622      0.402347\n",
       "E          141.73          618      0.229337\n",
       "T           83.16          616      0.135000\n",
       "E10+        78.00          456      0.171053"
      ]
     },
     "execution_count": 112,
     "metadata": {},
     "output_type": "execute_result"
    }
   ],
   "source": [
    "games_rating_eu = games_now.pivot_table(index='rating', values='eu_sales', aggfunc=['sum', 'count'])\n",
    "games_rating_eu.columns = ['sum_sales', 'count_sales']\n",
    "games_rating_eu['sum_on_count'] = games_rating_eu['sum_sales'] / games_rating_eu['count_sales']\n",
    "games_rating_eu = games_rating_eu.sort_values(by='sum_sales', ascending=False)\n",
    "games_rating_eu.head(4)"
   ]
  },
  {
   "cell_type": "markdown",
   "metadata": {},
   "source": [
    "### Япония"
   ]
  },
  {
   "cell_type": "code",
   "execution_count": 113,
   "metadata": {
    "ExecuteTime": {
     "end_time": "2020-04-12T03:34:05.438558Z",
     "start_time": "2020-04-12T03:34:05.410553Z"
    }
   },
   "outputs": [
    {
     "data": {
      "text/html": [
       "<div>\n",
       "<style scoped>\n",
       "    .dataframe tbody tr th:only-of-type {\n",
       "        vertical-align: middle;\n",
       "    }\n",
       "\n",
       "    .dataframe tbody tr th {\n",
       "        vertical-align: top;\n",
       "    }\n",
       "\n",
       "    .dataframe thead th {\n",
       "        text-align: right;\n",
       "    }\n",
       "</style>\n",
       "<table border=\"1\" class=\"dataframe\">\n",
       "  <thead>\n",
       "    <tr style=\"text-align: right;\">\n",
       "      <th></th>\n",
       "      <th>sum_sales</th>\n",
       "      <th>count_sales</th>\n",
       "      <th>sum_on_count</th>\n",
       "    </tr>\n",
       "    <tr>\n",
       "      <th>rating</th>\n",
       "      <th></th>\n",
       "      <th></th>\n",
       "      <th></th>\n",
       "    </tr>\n",
       "  </thead>\n",
       "  <tbody>\n",
       "    <tr>\n",
       "      <th>E</th>\n",
       "      <td>36.68</td>\n",
       "      <td>618</td>\n",
       "      <td>0.059353</td>\n",
       "    </tr>\n",
       "    <tr>\n",
       "      <th>T</th>\n",
       "      <td>33.39</td>\n",
       "      <td>616</td>\n",
       "      <td>0.054205</td>\n",
       "    </tr>\n",
       "    <tr>\n",
       "      <th>M</th>\n",
       "      <td>26.14</td>\n",
       "      <td>622</td>\n",
       "      <td>0.042026</td>\n",
       "    </tr>\n",
       "    <tr>\n",
       "      <th>E10+</th>\n",
       "      <td>11.23</td>\n",
       "      <td>456</td>\n",
       "      <td>0.024627</td>\n",
       "    </tr>\n",
       "  </tbody>\n",
       "</table>\n",
       "</div>"
      ],
      "text/plain": [
       "        sum_sales  count_sales  sum_on_count\n",
       "rating                                      \n",
       "E           36.68          618      0.059353\n",
       "T           33.39          616      0.054205\n",
       "M           26.14          622      0.042026\n",
       "E10+        11.23          456      0.024627"
      ]
     },
     "execution_count": 113,
     "metadata": {},
     "output_type": "execute_result"
    }
   ],
   "source": [
    "games_rating_jp = games_now.pivot_table(index='rating', values='jp_sales', aggfunc=['sum', 'count'])\n",
    "games_rating_jp.columns = ['sum_sales', 'count_sales']\n",
    "games_rating_jp['sum_on_count'] = games_rating_jp['sum_sales'] / games_rating_jp['count_sales']\n",
    "games_rating_jp = games_rating_jp.sort_values(by='sum_sales', ascending=False)\n",
    "games_rating_jp.head(4)"
   ]
  },
  {
   "cell_type": "markdown",
   "metadata": {},
   "source": [
    "### *Для Северной Америки и Европы игры по популярности рейтинга расположены примерно в таком порядке: M(для взрослых, лицам старше 17 лет), E(для всех, старше 6 лет), T(для подростков, лиц старше 13 лет) = E10+(для всех, старше 10 лет). В Японии же порядок популярности по возрастным ограничения таков: E(старше 6 лет), T(старше 13 лет), M(старше 17 лет), E10+(старше 10 лет). Иначе говоря игры с возрастным ограничением в 17+ распространены намного меньше, чем игры 6+ и 13+, о чем не скажешь для игроков в Европе или Северной Америке. Наверняка это связано с менталитетом Японцев, опять их культура и традиции не позволяют им играть в игры 17+, возможно это также связано со средней женоподобностью среди мужчин.*"
   ]
  },
  {
   "cell_type": "markdown",
   "metadata": {},
   "source": [
    "# Проверка Гипотез"
   ]
  },
  {
   "cell_type": "markdown",
   "metadata": {},
   "source": [
    "## Гипотеза 1: Средние пользовательские рейтинги платформ Xbox One и PC одинаковые."
   ]
  },
  {
   "cell_type": "markdown",
   "metadata": {},
   "source": [
    "### Возьмём за нулевую гипотезу - исходную. Пороговое значение alpha возьмём равным 5% и проверим нулевую гипотезу, как гипотезу равенства генеральных совокупностей по исходным выборкам, альтернативная гипотеза - средние пользовательские рейтинги данных платформ различаются."
   ]
  },
  {
   "cell_type": "code",
   "execution_count": 114,
   "metadata": {
    "ExecuteTime": {
     "end_time": "2020-04-12T03:34:05.453410Z",
     "start_time": "2020-04-12T03:34:05.440452Z"
    }
   },
   "outputs": [
    {
     "name": "stdout",
     "output_type": "stream",
     "text": [
      "p-значение: 0.6130712247638477\n",
      "Первая гипотеза верна с точностью до уровня значимости в 5%\n"
     ]
    }
   ],
   "source": [
    "games_now.head()\n",
    "games_user_score_xbox = games_now[games_now['platform'] == 'XOne']['user_score'].dropna().tolist()\n",
    "games_user_score_pc = games_now[games_now['platform'] == 'PC']['user_score'].dropna().tolist()\n",
    "alpha = 0.05\n",
    "results = st.ttest_ind(games_user_score_xbox, games_user_score_pc, equal_var=False)\n",
    "print('p-значение:', results.pvalue)\n",
    "if (alpha >= results.pvalue):\n",
    "    print('Первая гипотеза неверна с точностью до уровня значимости в 5%')\n",
    "else:\n",
    "    print('Первая гипотеза верна с точностью до уровня значимости в 5%')"
   ]
  },
  {
   "cell_type": "markdown",
   "metadata": {},
   "source": [
    "### *p-value = 61.3%, что говорит о том, что средние пользовательские рейтинги действительно примерно одинаковые и с большой точностью можно принять гипотезу 1.*"
   ]
  },
  {
   "cell_type": "markdown",
   "metadata": {},
   "source": [
    "## Гипотеза 2: Средние пользовательские рейтинги жанров Action и Sport различные."
   ]
  },
  {
   "cell_type": "markdown",
   "metadata": {},
   "source": [
    "### Возьмём за нулевую гипотезу равенство средних пользовательских рейтингов этих жанров, а альтернативную - искомую гипотезу(средние пользовательские рейтинги жанров Action и Sport различные) и проверим по исходной выборке вероятность для генеральной совокупности. Пороговое значение принятия/отторжения гипотезы возьмём равным 5%."
   ]
  },
  {
   "cell_type": "code",
   "execution_count": 115,
   "metadata": {
    "ExecuteTime": {
     "end_time": "2020-04-12T03:34:05.467362Z",
     "start_time": "2020-04-12T03:34:05.455432Z"
    }
   },
   "outputs": [
    {
     "name": "stdout",
     "output_type": "stream",
     "text": [
      "p-значение: 8.285648549432565e-19\n",
      "Первая гипотеза верна с точностью до уровня значимости в 5%\n"
     ]
    }
   ],
   "source": [
    "games_user_score_action = games_now[games_now['genre'] == 'Action']['user_score'].dropna().tolist()\n",
    "games_user_score_sport = games_now[games_now['genre'] == 'Sports']['user_score'].dropna().tolist()\n",
    "alpha = 0.05\n",
    "results = st.ttest_ind(games_user_score_action, games_user_score_sport, equal_var=False)\n",
    "print('p-значение:', results.pvalue)\n",
    "if (alpha >= results.pvalue):\n",
    "    print('Первая гипотеза верна с точностью до уровня значимости в 5%')\n",
    "else:\n",
    "    print('Первая гипотеза неверна с точностью до уровня значимости в 5%')"
   ]
  },
  {
   "cell_type": "markdown",
   "metadata": {},
   "source": [
    "### *p-value = 8.3 * 10^(-19) крайне мало следовательно вероятность совпадения средних пользовательских оценок для жанров Action и Sport ничтожно малы, а значит исходная гипотеза 2 - средние пользовательские рейтинги жанров Action и Sport различные также верна с точностью до уровня значимости в 5%.*"
   ]
  },
  {
   "cell_type": "markdown",
   "metadata": {},
   "source": [
    "# Заключение:"
   ]
  },
  {
   "cell_type": "markdown",
   "metadata": {},
   "source": [
    "## Средний год жизни платформы - 7 лет, далее платформа становится непопулярной и продажи игр на ней резко снижаются. \n",
    "\n",
    "## Самые популярные платформы за всё время - PS2(1200 млн.дол.), X360(960 млн.дол.), PS3(920 млн.дол.),Wii(880 млн.дол.) ,DS(800 млн.дол.).\n",
    "\n",
    "## Актуальный период - [2011, 2016] годы для анализа к 2017 году.\n",
    "\n",
    "## Самые популярные платформы на этот период: PS3(450 млн.дол.), X360(380 млн.дол.), PS4(310 млн.дол.), 3DS(250 млн.дол.), XOne(150).\n",
    "\n",
    "## Платформы PS3, X360, 3DS - были популярны раньше, но к 2016 году  устарели, платформы PS4 и XOne - наоборот набирают обороты к популярности.\n",
    "\n",
    "## В среднем(по медиане) игра собирает где-то 0.2 миллионов долларов для платформ в целом. Платформа была 3DS не такая популярная, диапазон её сборов за игру до 0.4 млн. дол., а для платформ PS3, X360, PS4, XOne - диапазон значений может достигать верхней грани в 0.6 - 0.8 млн.дол..\n",
    "\n",
    "## Зависимость продаж от отзывов пользователей или критиков нелинейна, однако при увеличении оценки, что пользователей, что критиков продажи игры увеличиваются. В основном игры имеют оценку [60, 90] для критиков и [6, 9] для пользователей, поэтому сам по себе критерий не показательный.\n",
    "\n",
    "## Больше всего сборов по жанрам - Action, Shooter, Role-Playing, Sports; меньше всего по жанрам - Simulation, Adventure, Strategy и Puzzle. Больше всего игр выпущено по жанрам: Action(1269), Role-Playing(465), Adventure(410); меньше всего: Platform(122), Strategy(117), Puzzle(71). Самая большая средняя выручка за игру по жанрам: Shooter(1.22 млн. дол.), Platform(0.73 млн.дол.), Sports(0.61 млн.дол.), самая маленькая по жанрам: Strategy(0.19 млн.дол.), Puzzle(0.14 млн.дол.), Adventure(0.11 млн.дол.).\n",
    "\n",
    "## По сборам за игру в Северной Америке лидируют платформы - X360, XOne, PS4, WiiU, Wii. В Европе - PS4, X360, PS3, XOne, WiiU. В Японии - 3DS, WiiU, PSP, PS3, PSV. В Японии все новые платформы(PS4, XOne) доходят с опозданием или население не способно потратить такие деньги на платформу после её недавнего выхода. В Европе и Америке наоборот новые платформы(PS4, XOne) сразу занимают хорошие позиции в долях продаж на игру.\n",
    "\n",
    "## По общим сборам денег самые популярные жанры в Северной Америке - Action, Shooter, Sports, Role-Playing, Misc. В Европе - Action, Shooter, Sports, Role-Playing, Racing. В Японии - Role-Playing, Action, Misc, Fighting, Platform. В Европе и Северной Америке интересы игроков примерно совпадают. В Японии количество сборов больше на жанры, которые в Европе или Северной Америке не настолько распространены. Шутеры и спорт-игры более популярны среди Европейцев и жителей Северной Америке, а для японцев популярны жанры Fighting и Platform.\n",
    "\n",
    "## Для Северной Америки и Европы игры по популярности рейтинга расположены примерно в таком порядке: M(для взрослых, лицам старше 17 лет), E(для всех, старше 6 лет), T(для подростков, лиц старше 13 лет) = E10+(для всех, старше 10 лет). В Японии же порядок популярности по возрастным ограничения таков: E(старше 6 лет), T(старше 13 лет), M(старше 17 лет), E10+(старше 10 лет). Иначе говоря игры с возрастным ограничением в 17+ распространены намного меньше, чем игры 6+ и 13+, о чем не скажешь для игроков в Европе или Северной Америке. Наверняка это связано с менталитетом Японцев, опять их культура и традиции не позволяют им играть в игры 17+, возможно это также связано со средней женоподобностью среди мужчин, средний показатель которой по Японии намного больше.\n",
    "\n",
    "## Средние пользовательские рейтинги платформ Xbox One и PC приблизительно одинаковые.\n",
    "\n",
    "## Средние пользовательские рейтинги жанров Action и Sport сильно различны."
   ]
  }
 ],
 "metadata": {
  "kernelspec": {
   "display_name": "Python 3",
   "language": "python",
   "name": "python3"
  },
  "language_info": {
   "codemirror_mode": {
    "name": "ipython",
    "version": 3
   },
   "file_extension": ".py",
   "mimetype": "text/x-python",
   "name": "python",
   "nbconvert_exporter": "python",
   "pygments_lexer": "ipython3",
   "version": "3.7.7"
  },
  "toc": {
   "base_numbering": 1,
   "nav_menu": {},
   "number_sections": true,
   "sideBar": true,
   "skip_h1_title": false,
   "title_cell": "Table of Contents",
   "title_sidebar": "Contents",
   "toc_cell": false,
   "toc_position": {},
   "toc_section_display": true,
   "toc_window_display": false
  }
 },
 "nbformat": 4,
 "nbformat_minor": 2
}
